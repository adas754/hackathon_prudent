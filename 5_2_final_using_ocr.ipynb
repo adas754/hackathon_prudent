{
  "nbformat": 4,
  "nbformat_minor": 0,
  "metadata": {
    "colab": {
      "provenance": [],
      "gpuType": "T4"
    },
    "kernelspec": {
      "name": "python3",
      "display_name": "Python 3"
    },
    "language_info": {
      "name": "python"
    },
    "accelerator": "GPU"
  },
  "cells": [
    {
      "cell_type": "code",
      "execution_count": 7,
      "metadata": {
        "colab": {
          "base_uri": "https://localhost:8080/"
        },
        "collapsed": true,
        "id": "BbMG3GQINWJR",
        "outputId": "ec0b5d11-27b5-4cb7-de14-604f9dc4a6e9"
      },
      "outputs": [
        {
          "output_type": "stream",
          "name": "stdout",
          "text": [
            "Requirement already satisfied: pytesseract in /usr/local/lib/python3.10/dist-packages (0.3.10)\n",
            "Requirement already satisfied: packaging>=21.3 in /usr/local/lib/python3.10/dist-packages (from pytesseract) (24.0)\n",
            "Requirement already satisfied: Pillow>=8.0.0 in /usr/local/lib/python3.10/dist-packages (from pytesseract) (9.4.0)\n",
            "Reading package lists... Done\n",
            "Building dependency tree... Done\n",
            "Reading state information... Done\n",
            "tesseract-ocr is already the newest version (4.1.1-2.1build1).\n",
            "0 upgraded, 0 newly installed, 0 to remove and 45 not upgraded.\n",
            "Requirement already satisfied: gTTS in /usr/local/lib/python3.10/dist-packages (2.5.1)\n",
            "Requirement already satisfied: requests<3,>=2.27 in /usr/local/lib/python3.10/dist-packages (from gTTS) (2.31.0)\n",
            "Requirement already satisfied: click<8.2,>=7.1 in /usr/local/lib/python3.10/dist-packages (from gTTS) (8.1.7)\n",
            "Requirement already satisfied: charset-normalizer<4,>=2 in /usr/local/lib/python3.10/dist-packages (from requests<3,>=2.27->gTTS) (3.3.2)\n",
            "Requirement already satisfied: idna<4,>=2.5 in /usr/local/lib/python3.10/dist-packages (from requests<3,>=2.27->gTTS) (2.10)\n",
            "Requirement already satisfied: urllib3<3,>=1.21.1 in /usr/local/lib/python3.10/dist-packages (from requests<3,>=2.27->gTTS) (2.0.7)\n",
            "Requirement already satisfied: certifi>=2017.4.17 in /usr/local/lib/python3.10/dist-packages (from requests<3,>=2.27->gTTS) (2024.2.2)\n",
            "Requirement already satisfied: pyttsx3 in /usr/local/lib/python3.10/dist-packages (2.90)\n",
            "Requirement already satisfied: easyocr in /usr/local/lib/python3.10/dist-packages (1.7.1)\n",
            "Requirement already satisfied: torch in /usr/local/lib/python3.10/dist-packages (from easyocr) (2.2.1+cu121)\n",
            "Requirement already satisfied: torchvision>=0.5 in /usr/local/lib/python3.10/dist-packages (from easyocr) (0.17.1+cu121)\n",
            "Requirement already satisfied: opencv-python-headless in /usr/local/lib/python3.10/dist-packages (from easyocr) (4.9.0.80)\n",
            "Requirement already satisfied: scipy in /usr/local/lib/python3.10/dist-packages (from easyocr) (1.11.4)\n",
            "Requirement already satisfied: numpy in /usr/local/lib/python3.10/dist-packages (from easyocr) (1.25.2)\n",
            "Requirement already satisfied: Pillow in /usr/local/lib/python3.10/dist-packages (from easyocr) (9.4.0)\n",
            "Requirement already satisfied: scikit-image in /usr/local/lib/python3.10/dist-packages (from easyocr) (0.19.3)\n",
            "Requirement already satisfied: python-bidi in /usr/local/lib/python3.10/dist-packages (from easyocr) (0.4.2)\n",
            "Requirement already satisfied: PyYAML in /usr/local/lib/python3.10/dist-packages (from easyocr) (6.0.1)\n",
            "Requirement already satisfied: Shapely in /usr/local/lib/python3.10/dist-packages (from easyocr) (2.0.4)\n",
            "Requirement already satisfied: pyclipper in /usr/local/lib/python3.10/dist-packages (from easyocr) (1.3.0.post5)\n",
            "Requirement already satisfied: ninja in /usr/local/lib/python3.10/dist-packages (from easyocr) (1.11.1.1)\n",
            "Requirement already satisfied: filelock in /usr/local/lib/python3.10/dist-packages (from torch->easyocr) (3.14.0)\n",
            "Requirement already satisfied: typing-extensions>=4.8.0 in /usr/local/lib/python3.10/dist-packages (from torch->easyocr) (4.11.0)\n",
            "Requirement already satisfied: sympy in /usr/local/lib/python3.10/dist-packages (from torch->easyocr) (1.12)\n",
            "Requirement already satisfied: networkx in /usr/local/lib/python3.10/dist-packages (from torch->easyocr) (3.3)\n",
            "Requirement already satisfied: jinja2 in /usr/local/lib/python3.10/dist-packages (from torch->easyocr) (3.1.4)\n",
            "Requirement already satisfied: fsspec in /usr/local/lib/python3.10/dist-packages (from torch->easyocr) (2023.6.0)\n",
            "Requirement already satisfied: nvidia-cuda-nvrtc-cu12==12.1.105 in /usr/local/lib/python3.10/dist-packages (from torch->easyocr) (12.1.105)\n",
            "Requirement already satisfied: nvidia-cuda-runtime-cu12==12.1.105 in /usr/local/lib/python3.10/dist-packages (from torch->easyocr) (12.1.105)\n",
            "Requirement already satisfied: nvidia-cuda-cupti-cu12==12.1.105 in /usr/local/lib/python3.10/dist-packages (from torch->easyocr) (12.1.105)\n",
            "Requirement already satisfied: nvidia-cudnn-cu12==8.9.2.26 in /usr/local/lib/python3.10/dist-packages (from torch->easyocr) (8.9.2.26)\n",
            "Requirement already satisfied: nvidia-cublas-cu12==12.1.3.1 in /usr/local/lib/python3.10/dist-packages (from torch->easyocr) (12.1.3.1)\n",
            "Requirement already satisfied: nvidia-cufft-cu12==11.0.2.54 in /usr/local/lib/python3.10/dist-packages (from torch->easyocr) (11.0.2.54)\n",
            "Requirement already satisfied: nvidia-curand-cu12==10.3.2.106 in /usr/local/lib/python3.10/dist-packages (from torch->easyocr) (10.3.2.106)\n",
            "Requirement already satisfied: nvidia-cusolver-cu12==11.4.5.107 in /usr/local/lib/python3.10/dist-packages (from torch->easyocr) (11.4.5.107)\n",
            "Requirement already satisfied: nvidia-cusparse-cu12==12.1.0.106 in /usr/local/lib/python3.10/dist-packages (from torch->easyocr) (12.1.0.106)\n",
            "Requirement already satisfied: nvidia-nccl-cu12==2.19.3 in /usr/local/lib/python3.10/dist-packages (from torch->easyocr) (2.19.3)\n",
            "Requirement already satisfied: nvidia-nvtx-cu12==12.1.105 in /usr/local/lib/python3.10/dist-packages (from torch->easyocr) (12.1.105)\n",
            "Requirement already satisfied: triton==2.2.0 in /usr/local/lib/python3.10/dist-packages (from torch->easyocr) (2.2.0)\n",
            "Requirement already satisfied: nvidia-nvjitlink-cu12 in /usr/local/lib/python3.10/dist-packages (from nvidia-cusolver-cu12==11.4.5.107->torch->easyocr) (12.4.127)\n",
            "Requirement already satisfied: six in /usr/local/lib/python3.10/dist-packages (from python-bidi->easyocr) (1.16.0)\n",
            "Requirement already satisfied: imageio>=2.4.1 in /usr/local/lib/python3.10/dist-packages (from scikit-image->easyocr) (2.31.6)\n",
            "Requirement already satisfied: tifffile>=2019.7.26 in /usr/local/lib/python3.10/dist-packages (from scikit-image->easyocr) (2024.5.10)\n",
            "Requirement already satisfied: PyWavelets>=1.1.1 in /usr/local/lib/python3.10/dist-packages (from scikit-image->easyocr) (1.6.0)\n",
            "Requirement already satisfied: packaging>=20.0 in /usr/local/lib/python3.10/dist-packages (from scikit-image->easyocr) (24.0)\n",
            "Requirement already satisfied: MarkupSafe>=2.0 in /usr/local/lib/python3.10/dist-packages (from jinja2->torch->easyocr) (2.1.5)\n",
            "Requirement already satisfied: mpmath>=0.19 in /usr/local/lib/python3.10/dist-packages (from sympy->torch->easyocr) (1.3.0)\n",
            "Requirement already satisfied: googletrans in /usr/local/lib/python3.10/dist-packages (3.0.0)\n",
            "Requirement already satisfied: httpx==0.13.3 in /usr/local/lib/python3.10/dist-packages (from googletrans) (0.13.3)\n",
            "Requirement already satisfied: certifi in /usr/local/lib/python3.10/dist-packages (from httpx==0.13.3->googletrans) (2024.2.2)\n",
            "Requirement already satisfied: hstspreload in /usr/local/lib/python3.10/dist-packages (from httpx==0.13.3->googletrans) (2024.5.1)\n",
            "Requirement already satisfied: sniffio in /usr/local/lib/python3.10/dist-packages (from httpx==0.13.3->googletrans) (1.3.1)\n",
            "Requirement already satisfied: chardet==3.* in /usr/local/lib/python3.10/dist-packages (from httpx==0.13.3->googletrans) (3.0.4)\n",
            "Requirement already satisfied: idna==2.* in /usr/local/lib/python3.10/dist-packages (from httpx==0.13.3->googletrans) (2.10)\n",
            "Requirement already satisfied: rfc3986<2,>=1.3 in /usr/local/lib/python3.10/dist-packages (from httpx==0.13.3->googletrans) (1.5.0)\n",
            "Requirement already satisfied: httpcore==0.9.* in /usr/local/lib/python3.10/dist-packages (from httpx==0.13.3->googletrans) (0.9.1)\n",
            "Requirement already satisfied: h11<0.10,>=0.8 in /usr/local/lib/python3.10/dist-packages (from httpcore==0.9.*->httpx==0.13.3->googletrans) (0.9.0)\n",
            "Requirement already satisfied: h2==3.* in /usr/local/lib/python3.10/dist-packages (from httpcore==0.9.*->httpx==0.13.3->googletrans) (3.2.0)\n",
            "Requirement already satisfied: hyperframe<6,>=5.2.0 in /usr/local/lib/python3.10/dist-packages (from h2==3.*->httpcore==0.9.*->httpx==0.13.3->googletrans) (5.2.0)\n",
            "Requirement already satisfied: hpack<4,>=3.0 in /usr/local/lib/python3.10/dist-packages (from h2==3.*->httpcore==0.9.*->httpx==0.13.3->googletrans) (3.0.0)\n",
            "Reading package lists... Done\n",
            "Building dependency tree... Done\n",
            "Reading state information... Done\n",
            "libtesseract-dev is already the newest version (4.1.1-2.1build1).\n",
            "0 upgraded, 0 newly installed, 0 to remove and 45 not upgraded.\n"
          ]
        }
      ],
      "source": [
        "!pip install pytesseract\n",
        "!sudo apt install tesseract-ocr\n",
        "!pip install gTTS\n",
        "!pip install pyttsx3\n",
        "!pip install easyocr\n",
        "!pip install googletrans\n",
        "!sudo apt install libtesseract-dev"
      ]
    },
    {
      "cell_type": "code",
      "source": [
        "!pip install transformers[torch]"
      ],
      "metadata": {
        "colab": {
          "base_uri": "https://localhost:8080/"
        },
        "collapsed": true,
        "id": "TWH_l14AkzRo",
        "outputId": "bb04cefd-90d9-4284-cd53-245da6cc18fc"
      },
      "execution_count": 8,
      "outputs": [
        {
          "output_type": "stream",
          "name": "stdout",
          "text": [
            "Requirement already satisfied: transformers[torch] in /usr/local/lib/python3.10/dist-packages (4.40.2)\n",
            "Requirement already satisfied: filelock in /usr/local/lib/python3.10/dist-packages (from transformers[torch]) (3.14.0)\n",
            "Requirement already satisfied: huggingface-hub<1.0,>=0.19.3 in /usr/local/lib/python3.10/dist-packages (from transformers[torch]) (0.23.0)\n",
            "Requirement already satisfied: numpy>=1.17 in /usr/local/lib/python3.10/dist-packages (from transformers[torch]) (1.25.2)\n",
            "Requirement already satisfied: packaging>=20.0 in /usr/local/lib/python3.10/dist-packages (from transformers[torch]) (24.0)\n",
            "Requirement already satisfied: pyyaml>=5.1 in /usr/local/lib/python3.10/dist-packages (from transformers[torch]) (6.0.1)\n",
            "Requirement already satisfied: regex!=2019.12.17 in /usr/local/lib/python3.10/dist-packages (from transformers[torch]) (2023.12.25)\n",
            "Requirement already satisfied: requests in /usr/local/lib/python3.10/dist-packages (from transformers[torch]) (2.31.0)\n",
            "Requirement already satisfied: tokenizers<0.20,>=0.19 in /usr/local/lib/python3.10/dist-packages (from transformers[torch]) (0.19.1)\n",
            "Requirement already satisfied: safetensors>=0.4.1 in /usr/local/lib/python3.10/dist-packages (from transformers[torch]) (0.4.3)\n",
            "Requirement already satisfied: tqdm>=4.27 in /usr/local/lib/python3.10/dist-packages (from transformers[torch]) (4.66.4)\n",
            "Requirement already satisfied: torch in /usr/local/lib/python3.10/dist-packages (from transformers[torch]) (2.2.1+cu121)\n",
            "Requirement already satisfied: accelerate>=0.21.0 in /usr/local/lib/python3.10/dist-packages (from transformers[torch]) (0.31.0.dev0)\n",
            "Requirement already satisfied: psutil in /usr/local/lib/python3.10/dist-packages (from accelerate>=0.21.0->transformers[torch]) (5.9.5)\n",
            "Requirement already satisfied: fsspec>=2023.5.0 in /usr/local/lib/python3.10/dist-packages (from huggingface-hub<1.0,>=0.19.3->transformers[torch]) (2023.6.0)\n",
            "Requirement already satisfied: typing-extensions>=3.7.4.3 in /usr/local/lib/python3.10/dist-packages (from huggingface-hub<1.0,>=0.19.3->transformers[torch]) (4.11.0)\n",
            "Requirement already satisfied: sympy in /usr/local/lib/python3.10/dist-packages (from torch->transformers[torch]) (1.12)\n",
            "Requirement already satisfied: networkx in /usr/local/lib/python3.10/dist-packages (from torch->transformers[torch]) (3.3)\n",
            "Requirement already satisfied: jinja2 in /usr/local/lib/python3.10/dist-packages (from torch->transformers[torch]) (3.1.4)\n",
            "Requirement already satisfied: nvidia-cuda-nvrtc-cu12==12.1.105 in /usr/local/lib/python3.10/dist-packages (from torch->transformers[torch]) (12.1.105)\n",
            "Requirement already satisfied: nvidia-cuda-runtime-cu12==12.1.105 in /usr/local/lib/python3.10/dist-packages (from torch->transformers[torch]) (12.1.105)\n",
            "Requirement already satisfied: nvidia-cuda-cupti-cu12==12.1.105 in /usr/local/lib/python3.10/dist-packages (from torch->transformers[torch]) (12.1.105)\n",
            "Requirement already satisfied: nvidia-cudnn-cu12==8.9.2.26 in /usr/local/lib/python3.10/dist-packages (from torch->transformers[torch]) (8.9.2.26)\n",
            "Requirement already satisfied: nvidia-cublas-cu12==12.1.3.1 in /usr/local/lib/python3.10/dist-packages (from torch->transformers[torch]) (12.1.3.1)\n",
            "Requirement already satisfied: nvidia-cufft-cu12==11.0.2.54 in /usr/local/lib/python3.10/dist-packages (from torch->transformers[torch]) (11.0.2.54)\n",
            "Requirement already satisfied: nvidia-curand-cu12==10.3.2.106 in /usr/local/lib/python3.10/dist-packages (from torch->transformers[torch]) (10.3.2.106)\n",
            "Requirement already satisfied: nvidia-cusolver-cu12==11.4.5.107 in /usr/local/lib/python3.10/dist-packages (from torch->transformers[torch]) (11.4.5.107)\n",
            "Requirement already satisfied: nvidia-cusparse-cu12==12.1.0.106 in /usr/local/lib/python3.10/dist-packages (from torch->transformers[torch]) (12.1.0.106)\n",
            "Requirement already satisfied: nvidia-nccl-cu12==2.19.3 in /usr/local/lib/python3.10/dist-packages (from torch->transformers[torch]) (2.19.3)\n",
            "Requirement already satisfied: nvidia-nvtx-cu12==12.1.105 in /usr/local/lib/python3.10/dist-packages (from torch->transformers[torch]) (12.1.105)\n",
            "Requirement already satisfied: triton==2.2.0 in /usr/local/lib/python3.10/dist-packages (from torch->transformers[torch]) (2.2.0)\n",
            "Requirement already satisfied: nvidia-nvjitlink-cu12 in /usr/local/lib/python3.10/dist-packages (from nvidia-cusolver-cu12==11.4.5.107->torch->transformers[torch]) (12.4.127)\n",
            "Requirement already satisfied: charset-normalizer<4,>=2 in /usr/local/lib/python3.10/dist-packages (from requests->transformers[torch]) (3.3.2)\n",
            "Requirement already satisfied: idna<4,>=2.5 in /usr/local/lib/python3.10/dist-packages (from requests->transformers[torch]) (2.10)\n",
            "Requirement already satisfied: urllib3<3,>=1.21.1 in /usr/local/lib/python3.10/dist-packages (from requests->transformers[torch]) (2.0.7)\n",
            "Requirement already satisfied: certifi>=2017.4.17 in /usr/local/lib/python3.10/dist-packages (from requests->transformers[torch]) (2024.2.2)\n",
            "Requirement already satisfied: MarkupSafe>=2.0 in /usr/local/lib/python3.10/dist-packages (from jinja2->torch->transformers[torch]) (2.1.5)\n",
            "Requirement already satisfied: mpmath>=0.19 in /usr/local/lib/python3.10/dist-packages (from sympy->torch->transformers[torch]) (1.3.0)\n"
          ]
        }
      ]
    },
    {
      "cell_type": "code",
      "source": [
        "!pip install accelerate"
      ],
      "metadata": {
        "collapsed": true,
        "colab": {
          "base_uri": "https://localhost:8080/"
        },
        "id": "amgejADZlU-T",
        "outputId": "b0d3c42e-3090-44ec-b117-77ca82fa4aa5"
      },
      "execution_count": 9,
      "outputs": [
        {
          "output_type": "stream",
          "name": "stdout",
          "text": [
            "Requirement already satisfied: accelerate in /usr/local/lib/python3.10/dist-packages (0.31.0.dev0)\n",
            "Requirement already satisfied: numpy>=1.17 in /usr/local/lib/python3.10/dist-packages (from accelerate) (1.25.2)\n",
            "Requirement already satisfied: packaging>=20.0 in /usr/local/lib/python3.10/dist-packages (from accelerate) (24.0)\n",
            "Requirement already satisfied: psutil in /usr/local/lib/python3.10/dist-packages (from accelerate) (5.9.5)\n",
            "Requirement already satisfied: pyyaml in /usr/local/lib/python3.10/dist-packages (from accelerate) (6.0.1)\n",
            "Requirement already satisfied: torch>=1.10.0 in /usr/local/lib/python3.10/dist-packages (from accelerate) (2.2.1+cu121)\n",
            "Requirement already satisfied: huggingface-hub in /usr/local/lib/python3.10/dist-packages (from accelerate) (0.23.0)\n",
            "Requirement already satisfied: safetensors>=0.3.1 in /usr/local/lib/python3.10/dist-packages (from accelerate) (0.4.3)\n",
            "Requirement already satisfied: filelock in /usr/local/lib/python3.10/dist-packages (from torch>=1.10.0->accelerate) (3.14.0)\n",
            "Requirement already satisfied: typing-extensions>=4.8.0 in /usr/local/lib/python3.10/dist-packages (from torch>=1.10.0->accelerate) (4.11.0)\n",
            "Requirement already satisfied: sympy in /usr/local/lib/python3.10/dist-packages (from torch>=1.10.0->accelerate) (1.12)\n",
            "Requirement already satisfied: networkx in /usr/local/lib/python3.10/dist-packages (from torch>=1.10.0->accelerate) (3.3)\n",
            "Requirement already satisfied: jinja2 in /usr/local/lib/python3.10/dist-packages (from torch>=1.10.0->accelerate) (3.1.4)\n",
            "Requirement already satisfied: fsspec in /usr/local/lib/python3.10/dist-packages (from torch>=1.10.0->accelerate) (2023.6.0)\n",
            "Requirement already satisfied: nvidia-cuda-nvrtc-cu12==12.1.105 in /usr/local/lib/python3.10/dist-packages (from torch>=1.10.0->accelerate) (12.1.105)\n",
            "Requirement already satisfied: nvidia-cuda-runtime-cu12==12.1.105 in /usr/local/lib/python3.10/dist-packages (from torch>=1.10.0->accelerate) (12.1.105)\n",
            "Requirement already satisfied: nvidia-cuda-cupti-cu12==12.1.105 in /usr/local/lib/python3.10/dist-packages (from torch>=1.10.0->accelerate) (12.1.105)\n",
            "Requirement already satisfied: nvidia-cudnn-cu12==8.9.2.26 in /usr/local/lib/python3.10/dist-packages (from torch>=1.10.0->accelerate) (8.9.2.26)\n",
            "Requirement already satisfied: nvidia-cublas-cu12==12.1.3.1 in /usr/local/lib/python3.10/dist-packages (from torch>=1.10.0->accelerate) (12.1.3.1)\n",
            "Requirement already satisfied: nvidia-cufft-cu12==11.0.2.54 in /usr/local/lib/python3.10/dist-packages (from torch>=1.10.0->accelerate) (11.0.2.54)\n",
            "Requirement already satisfied: nvidia-curand-cu12==10.3.2.106 in /usr/local/lib/python3.10/dist-packages (from torch>=1.10.0->accelerate) (10.3.2.106)\n",
            "Requirement already satisfied: nvidia-cusolver-cu12==11.4.5.107 in /usr/local/lib/python3.10/dist-packages (from torch>=1.10.0->accelerate) (11.4.5.107)\n",
            "Requirement already satisfied: nvidia-cusparse-cu12==12.1.0.106 in /usr/local/lib/python3.10/dist-packages (from torch>=1.10.0->accelerate) (12.1.0.106)\n",
            "Requirement already satisfied: nvidia-nccl-cu12==2.19.3 in /usr/local/lib/python3.10/dist-packages (from torch>=1.10.0->accelerate) (2.19.3)\n",
            "Requirement already satisfied: nvidia-nvtx-cu12==12.1.105 in /usr/local/lib/python3.10/dist-packages (from torch>=1.10.0->accelerate) (12.1.105)\n",
            "Requirement already satisfied: triton==2.2.0 in /usr/local/lib/python3.10/dist-packages (from torch>=1.10.0->accelerate) (2.2.0)\n",
            "Requirement already satisfied: nvidia-nvjitlink-cu12 in /usr/local/lib/python3.10/dist-packages (from nvidia-cusolver-cu12==11.4.5.107->torch>=1.10.0->accelerate) (12.4.127)\n",
            "Requirement already satisfied: requests in /usr/local/lib/python3.10/dist-packages (from huggingface-hub->accelerate) (2.31.0)\n",
            "Requirement already satisfied: tqdm>=4.42.1 in /usr/local/lib/python3.10/dist-packages (from huggingface-hub->accelerate) (4.66.4)\n",
            "Requirement already satisfied: MarkupSafe>=2.0 in /usr/local/lib/python3.10/dist-packages (from jinja2->torch>=1.10.0->accelerate) (2.1.5)\n",
            "Requirement already satisfied: charset-normalizer<4,>=2 in /usr/local/lib/python3.10/dist-packages (from requests->huggingface-hub->accelerate) (3.3.2)\n",
            "Requirement already satisfied: idna<4,>=2.5 in /usr/local/lib/python3.10/dist-packages (from requests->huggingface-hub->accelerate) (2.10)\n",
            "Requirement already satisfied: urllib3<3,>=1.21.1 in /usr/local/lib/python3.10/dist-packages (from requests->huggingface-hub->accelerate) (2.0.7)\n",
            "Requirement already satisfied: certifi>=2017.4.17 in /usr/local/lib/python3.10/dist-packages (from requests->huggingface-hub->accelerate) (2024.2.2)\n",
            "Requirement already satisfied: mpmath>=0.19 in /usr/local/lib/python3.10/dist-packages (from sympy->torch>=1.10.0->accelerate) (1.3.0)\n"
          ]
        }
      ]
    },
    {
      "cell_type": "code",
      "source": [
        "!pip install accelerate -U"
      ],
      "metadata": {
        "colab": {
          "base_uri": "https://localhost:8080/"
        },
        "collapsed": true,
        "id": "VUDrYxgrk-6k",
        "outputId": "4654c7c8-f833-4119-faa5-3487e0584ae2"
      },
      "execution_count": 10,
      "outputs": [
        {
          "output_type": "stream",
          "name": "stdout",
          "text": [
            "Requirement already satisfied: accelerate in /usr/local/lib/python3.10/dist-packages (0.31.0.dev0)\n",
            "Requirement already satisfied: numpy>=1.17 in /usr/local/lib/python3.10/dist-packages (from accelerate) (1.25.2)\n",
            "Requirement already satisfied: packaging>=20.0 in /usr/local/lib/python3.10/dist-packages (from accelerate) (24.0)\n",
            "Requirement already satisfied: psutil in /usr/local/lib/python3.10/dist-packages (from accelerate) (5.9.5)\n",
            "Requirement already satisfied: pyyaml in /usr/local/lib/python3.10/dist-packages (from accelerate) (6.0.1)\n",
            "Requirement already satisfied: torch>=1.10.0 in /usr/local/lib/python3.10/dist-packages (from accelerate) (2.2.1+cu121)\n",
            "Requirement already satisfied: huggingface-hub in /usr/local/lib/python3.10/dist-packages (from accelerate) (0.23.0)\n",
            "Requirement already satisfied: safetensors>=0.3.1 in /usr/local/lib/python3.10/dist-packages (from accelerate) (0.4.3)\n",
            "Requirement already satisfied: filelock in /usr/local/lib/python3.10/dist-packages (from torch>=1.10.0->accelerate) (3.14.0)\n",
            "Requirement already satisfied: typing-extensions>=4.8.0 in /usr/local/lib/python3.10/dist-packages (from torch>=1.10.0->accelerate) (4.11.0)\n",
            "Requirement already satisfied: sympy in /usr/local/lib/python3.10/dist-packages (from torch>=1.10.0->accelerate) (1.12)\n",
            "Requirement already satisfied: networkx in /usr/local/lib/python3.10/dist-packages (from torch>=1.10.0->accelerate) (3.3)\n",
            "Requirement already satisfied: jinja2 in /usr/local/lib/python3.10/dist-packages (from torch>=1.10.0->accelerate) (3.1.4)\n",
            "Requirement already satisfied: fsspec in /usr/local/lib/python3.10/dist-packages (from torch>=1.10.0->accelerate) (2023.6.0)\n",
            "Requirement already satisfied: nvidia-cuda-nvrtc-cu12==12.1.105 in /usr/local/lib/python3.10/dist-packages (from torch>=1.10.0->accelerate) (12.1.105)\n",
            "Requirement already satisfied: nvidia-cuda-runtime-cu12==12.1.105 in /usr/local/lib/python3.10/dist-packages (from torch>=1.10.0->accelerate) (12.1.105)\n",
            "Requirement already satisfied: nvidia-cuda-cupti-cu12==12.1.105 in /usr/local/lib/python3.10/dist-packages (from torch>=1.10.0->accelerate) (12.1.105)\n",
            "Requirement already satisfied: nvidia-cudnn-cu12==8.9.2.26 in /usr/local/lib/python3.10/dist-packages (from torch>=1.10.0->accelerate) (8.9.2.26)\n",
            "Requirement already satisfied: nvidia-cublas-cu12==12.1.3.1 in /usr/local/lib/python3.10/dist-packages (from torch>=1.10.0->accelerate) (12.1.3.1)\n",
            "Requirement already satisfied: nvidia-cufft-cu12==11.0.2.54 in /usr/local/lib/python3.10/dist-packages (from torch>=1.10.0->accelerate) (11.0.2.54)\n",
            "Requirement already satisfied: nvidia-curand-cu12==10.3.2.106 in /usr/local/lib/python3.10/dist-packages (from torch>=1.10.0->accelerate) (10.3.2.106)\n",
            "Requirement already satisfied: nvidia-cusolver-cu12==11.4.5.107 in /usr/local/lib/python3.10/dist-packages (from torch>=1.10.0->accelerate) (11.4.5.107)\n",
            "Requirement already satisfied: nvidia-cusparse-cu12==12.1.0.106 in /usr/local/lib/python3.10/dist-packages (from torch>=1.10.0->accelerate) (12.1.0.106)\n",
            "Requirement already satisfied: nvidia-nccl-cu12==2.19.3 in /usr/local/lib/python3.10/dist-packages (from torch>=1.10.0->accelerate) (2.19.3)\n",
            "Requirement already satisfied: nvidia-nvtx-cu12==12.1.105 in /usr/local/lib/python3.10/dist-packages (from torch>=1.10.0->accelerate) (12.1.105)\n",
            "Requirement already satisfied: triton==2.2.0 in /usr/local/lib/python3.10/dist-packages (from torch>=1.10.0->accelerate) (2.2.0)\n",
            "Requirement already satisfied: nvidia-nvjitlink-cu12 in /usr/local/lib/python3.10/dist-packages (from nvidia-cusolver-cu12==11.4.5.107->torch>=1.10.0->accelerate) (12.4.127)\n",
            "Requirement already satisfied: requests in /usr/local/lib/python3.10/dist-packages (from huggingface-hub->accelerate) (2.31.0)\n",
            "Requirement already satisfied: tqdm>=4.42.1 in /usr/local/lib/python3.10/dist-packages (from huggingface-hub->accelerate) (4.66.4)\n",
            "Requirement already satisfied: MarkupSafe>=2.0 in /usr/local/lib/python3.10/dist-packages (from jinja2->torch>=1.10.0->accelerate) (2.1.5)\n",
            "Requirement already satisfied: charset-normalizer<4,>=2 in /usr/local/lib/python3.10/dist-packages (from requests->huggingface-hub->accelerate) (3.3.2)\n",
            "Requirement already satisfied: idna<4,>=2.5 in /usr/local/lib/python3.10/dist-packages (from requests->huggingface-hub->accelerate) (2.10)\n",
            "Requirement already satisfied: urllib3<3,>=1.21.1 in /usr/local/lib/python3.10/dist-packages (from requests->huggingface-hub->accelerate) (2.0.7)\n",
            "Requirement already satisfied: certifi>=2017.4.17 in /usr/local/lib/python3.10/dist-packages (from requests->huggingface-hub->accelerate) (2024.2.2)\n",
            "Requirement already satisfied: mpmath>=0.19 in /usr/local/lib/python3.10/dist-packages (from sympy->torch>=1.10.0->accelerate) (1.3.0)\n"
          ]
        }
      ]
    },
    {
      "cell_type": "code",
      "source": [
        "!pip install transformers[torch] accelerate>=0.21.0\n"
      ],
      "metadata": {
        "id": "64FnrwLclutG"
      },
      "execution_count": 11,
      "outputs": []
    },
    {
      "cell_type": "code",
      "source": [
        "!pip install accelerate==0.19.0\n"
      ],
      "metadata": {
        "colab": {
          "base_uri": "https://localhost:8080/"
        },
        "collapsed": true,
        "id": "g3mdOfvjl9LQ",
        "outputId": "bf20cf2e-1110-4413-cd92-37d589e9c9f6"
      },
      "execution_count": 16,
      "outputs": [
        {
          "output_type": "stream",
          "name": "stdout",
          "text": [
            "Collecting accelerate==0.19.0\n",
            "  Downloading accelerate-0.19.0-py3-none-any.whl (219 kB)\n",
            "\u001b[2K     \u001b[90m━━━━━━━━━━━━━━━━━━━━━━━━━━━━━━━━━━━━━━━━\u001b[0m \u001b[32m219.1/219.1 kB\u001b[0m \u001b[31m4.4 MB/s\u001b[0m eta \u001b[36m0:00:00\u001b[0m\n",
            "\u001b[?25hRequirement already satisfied: numpy>=1.17 in /usr/local/lib/python3.10/dist-packages (from accelerate==0.19.0) (1.25.2)\n",
            "Requirement already satisfied: packaging>=20.0 in /usr/local/lib/python3.10/dist-packages (from accelerate==0.19.0) (24.0)\n",
            "Requirement already satisfied: psutil in /usr/local/lib/python3.10/dist-packages (from accelerate==0.19.0) (5.9.5)\n",
            "Requirement already satisfied: pyyaml in /usr/local/lib/python3.10/dist-packages (from accelerate==0.19.0) (6.0.1)\n",
            "Requirement already satisfied: torch>=1.6.0 in /usr/local/lib/python3.10/dist-packages (from accelerate==0.19.0) (2.2.1+cu121)\n",
            "Requirement already satisfied: filelock in /usr/local/lib/python3.10/dist-packages (from torch>=1.6.0->accelerate==0.19.0) (3.14.0)\n",
            "Requirement already satisfied: typing-extensions>=4.8.0 in /usr/local/lib/python3.10/dist-packages (from torch>=1.6.0->accelerate==0.19.0) (4.11.0)\n",
            "Requirement already satisfied: sympy in /usr/local/lib/python3.10/dist-packages (from torch>=1.6.0->accelerate==0.19.0) (1.12)\n",
            "Requirement already satisfied: networkx in /usr/local/lib/python3.10/dist-packages (from torch>=1.6.0->accelerate==0.19.0) (3.3)\n",
            "Requirement already satisfied: jinja2 in /usr/local/lib/python3.10/dist-packages (from torch>=1.6.0->accelerate==0.19.0) (3.1.4)\n",
            "Requirement already satisfied: fsspec in /usr/local/lib/python3.10/dist-packages (from torch>=1.6.0->accelerate==0.19.0) (2023.6.0)\n",
            "Requirement already satisfied: nvidia-cuda-nvrtc-cu12==12.1.105 in /usr/local/lib/python3.10/dist-packages (from torch>=1.6.0->accelerate==0.19.0) (12.1.105)\n",
            "Requirement already satisfied: nvidia-cuda-runtime-cu12==12.1.105 in /usr/local/lib/python3.10/dist-packages (from torch>=1.6.0->accelerate==0.19.0) (12.1.105)\n",
            "Requirement already satisfied: nvidia-cuda-cupti-cu12==12.1.105 in /usr/local/lib/python3.10/dist-packages (from torch>=1.6.0->accelerate==0.19.0) (12.1.105)\n",
            "Requirement already satisfied: nvidia-cudnn-cu12==8.9.2.26 in /usr/local/lib/python3.10/dist-packages (from torch>=1.6.0->accelerate==0.19.0) (8.9.2.26)\n",
            "Requirement already satisfied: nvidia-cublas-cu12==12.1.3.1 in /usr/local/lib/python3.10/dist-packages (from torch>=1.6.0->accelerate==0.19.0) (12.1.3.1)\n",
            "Requirement already satisfied: nvidia-cufft-cu12==11.0.2.54 in /usr/local/lib/python3.10/dist-packages (from torch>=1.6.0->accelerate==0.19.0) (11.0.2.54)\n",
            "Requirement already satisfied: nvidia-curand-cu12==10.3.2.106 in /usr/local/lib/python3.10/dist-packages (from torch>=1.6.0->accelerate==0.19.0) (10.3.2.106)\n",
            "Requirement already satisfied: nvidia-cusolver-cu12==11.4.5.107 in /usr/local/lib/python3.10/dist-packages (from torch>=1.6.0->accelerate==0.19.0) (11.4.5.107)\n",
            "Requirement already satisfied: nvidia-cusparse-cu12==12.1.0.106 in /usr/local/lib/python3.10/dist-packages (from torch>=1.6.0->accelerate==0.19.0) (12.1.0.106)\n",
            "Requirement already satisfied: nvidia-nccl-cu12==2.19.3 in /usr/local/lib/python3.10/dist-packages (from torch>=1.6.0->accelerate==0.19.0) (2.19.3)\n",
            "Requirement already satisfied: nvidia-nvtx-cu12==12.1.105 in /usr/local/lib/python3.10/dist-packages (from torch>=1.6.0->accelerate==0.19.0) (12.1.105)\n",
            "Requirement already satisfied: triton==2.2.0 in /usr/local/lib/python3.10/dist-packages (from torch>=1.6.0->accelerate==0.19.0) (2.2.0)\n",
            "Requirement already satisfied: nvidia-nvjitlink-cu12 in /usr/local/lib/python3.10/dist-packages (from nvidia-cusolver-cu12==11.4.5.107->torch>=1.6.0->accelerate==0.19.0) (12.4.127)\n",
            "Requirement already satisfied: MarkupSafe>=2.0 in /usr/local/lib/python3.10/dist-packages (from jinja2->torch>=1.6.0->accelerate==0.19.0) (2.1.5)\n",
            "Requirement already satisfied: mpmath>=0.19 in /usr/local/lib/python3.10/dist-packages (from sympy->torch>=1.6.0->accelerate==0.19.0) (1.3.0)\n",
            "Installing collected packages: accelerate\n",
            "  Attempting uninstall: accelerate\n",
            "    Found existing installation: accelerate 0.31.0.dev0\n",
            "    Uninstalling accelerate-0.31.0.dev0:\n",
            "      Successfully uninstalled accelerate-0.31.0.dev0\n",
            "\u001b[31mERROR: pip's dependency resolver does not currently take into account all the packages that are installed. This behaviour is the source of the following dependency conflicts.\n",
            "pytorch-accelerated 0.1.49 requires accelerate==0.29.3, but you have accelerate 0.19.0 which is incompatible.\u001b[0m\u001b[31m\n",
            "\u001b[0mSuccessfully installed accelerate-0.19.0\n"
          ]
        }
      ]
    },
    {
      "cell_type": "markdown",
      "source": [
        "## Using Pytesseract try to extract text from Image\n",
        "\n",
        "### ![images.jfif](data:image/jpeg;base64,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)"
      ],
      "metadata": {
        "id": "vuoQWyKDQjNO"
      }
    },
    {
      "cell_type": "markdown",
      "source": [
        "### Install dependencies"
      ],
      "metadata": {
        "id": "enlg_hm-RUvM"
      }
    },
    {
      "cell_type": "code",
      "source": [
        "import pytesseract\n",
        "from PIL import Image\n",
        "import os\n",
        "import easyocr\n"
      ],
      "metadata": {
        "id": "4oqghNW4RKj5"
      },
      "execution_count": 18,
      "outputs": []
    },
    {
      "cell_type": "code",
      "source": [
        "def py_ocr(image_path, text_file_path):\n",
        "    # Opening an image\n",
        "    img = Image.open(image_path)\n",
        "    # tessaract module installed path\n",
        "    pytesseract.pytesseract.tesseract_cmd = r'/usr/bin/tesseract'\n",
        "    # image to text\n",
        "    result = pytesseract.image_to_string(img)\n",
        "    with open(text_file_path, mode='w') as file:\n",
        "        file.write(result)\n",
        "    print(result)\n",
        "\n",
        "py_ocr('/content/images.jfif', 'abc.txt')\n"
      ],
      "metadata": {
        "colab": {
          "base_uri": "https://localhost:8080/"
        },
        "id": "6MkC_md6RI4q",
        "outputId": "6b5bd0c7-eb8b-4df9-dee4-3e1ff0430b8f"
      },
      "execution_count": 17,
      "outputs": [
        {
          "output_type": "stream",
          "name": "stdout",
          "text": [
            "Gecause\n",
            "be aie\n",
            "\f\n"
          ]
        }
      ]
    },
    {
      "cell_type": "markdown",
      "source": [
        "### Pytesseract is not giving good result try to use Easyocr For geting Better Result"
      ],
      "metadata": {
        "id": "AusYg-bbR_sc"
      }
    },
    {
      "cell_type": "code",
      "source": [
        "def easy_ocr(image_path, text_file_path):\n",
        "    # the EasyOCR reader\n",
        "    reader = easyocr.Reader(['en'])\n",
        "    img = Image.open(image_path)\n",
        "    print(img)\n",
        "    result = reader.readtext(image_path, detail=0)\n",
        "    # Convert list to string\n",
        "    result_text = ' '.join(result)\n",
        "    print(result_text)\n",
        "    with open(text_file_path, mode='w') as file:\n",
        "        file.write(result_text)\n",
        "easy_ocr('/content/images.jfif', 'abc.txt')\n"
      ],
      "metadata": {
        "colab": {
          "base_uri": "https://localhost:8080/"
        },
        "id": "lEhSFH6cSYIN",
        "outputId": "17b3bb78-51ed-4918-b731-453d4b4c2703"
      },
      "execution_count": 19,
      "outputs": [
        {
          "output_type": "stream",
          "name": "stderr",
          "text": [
            "WARNING:easyocr.easyocr:Neither CUDA nor MPS are available - defaulting to CPU. Note: This module is much faster with a GPU.\n"
          ]
        },
        {
          "output_type": "stream",
          "name": "stdout",
          "text": [
            "<PIL.JpegImagePlugin.JpegImageFile image mode=RGB size=197x159 at 0x7FBAF69148E0>\n",
            "Because be doinq\n"
          ]
        }
      ]
    },
    {
      "cell_type": "markdown",
      "source": [
        "#### easyocr is something better than tessaract ocr . Now trying to different approach"
      ],
      "metadata": {
        "id": "zxiJK5wgS3y1"
      }
    },
    {
      "cell_type": "code",
      "source": [
        "!pip install kaggle"
      ],
      "metadata": {
        "colab": {
          "base_uri": "https://localhost:8080/"
        },
        "collapsed": true,
        "id": "Pv7DH5KaQRx-",
        "outputId": "65fe3eed-6d0c-42f2-aca2-bc88420127a5"
      },
      "execution_count": 20,
      "outputs": [
        {
          "output_type": "stream",
          "name": "stdout",
          "text": [
            "Requirement already satisfied: kaggle in /usr/local/lib/python3.10/dist-packages (1.6.12)\n",
            "Requirement already satisfied: six>=1.10 in /usr/local/lib/python3.10/dist-packages (from kaggle) (1.16.0)\n",
            "Requirement already satisfied: certifi>=2023.7.22 in /usr/local/lib/python3.10/dist-packages (from kaggle) (2024.2.2)\n",
            "Requirement already satisfied: python-dateutil in /usr/local/lib/python3.10/dist-packages (from kaggle) (2.8.2)\n",
            "Requirement already satisfied: requests in /usr/local/lib/python3.10/dist-packages (from kaggle) (2.31.0)\n",
            "Requirement already satisfied: tqdm in /usr/local/lib/python3.10/dist-packages (from kaggle) (4.66.4)\n",
            "Requirement already satisfied: python-slugify in /usr/local/lib/python3.10/dist-packages (from kaggle) (8.0.4)\n",
            "Requirement already satisfied: urllib3 in /usr/local/lib/python3.10/dist-packages (from kaggle) (2.0.7)\n",
            "Requirement already satisfied: bleach in /usr/local/lib/python3.10/dist-packages (from kaggle) (6.1.0)\n",
            "Requirement already satisfied: webencodings in /usr/local/lib/python3.10/dist-packages (from bleach->kaggle) (0.5.1)\n",
            "Requirement already satisfied: text-unidecode>=1.3 in /usr/local/lib/python3.10/dist-packages (from python-slugify->kaggle) (1.3)\n",
            "Requirement already satisfied: charset-normalizer<4,>=2 in /usr/local/lib/python3.10/dist-packages (from requests->kaggle) (3.3.2)\n",
            "Requirement already satisfied: idna<4,>=2.5 in /usr/local/lib/python3.10/dist-packages (from requests->kaggle) (2.10)\n"
          ]
        }
      ]
    },
    {
      "cell_type": "markdown",
      "source": [
        "### Take provided dataset through kaggle"
      ],
      "metadata": {
        "id": "DguP83HXU3Px"
      }
    },
    {
      "cell_type": "markdown",
      "source": [
        "### download kaggle.json file"
      ],
      "metadata": {
        "id": "OR7o19o-VAs5"
      }
    },
    {
      "cell_type": "code",
      "source": [
        "from google.colab import files\n",
        "files.upload()"
      ],
      "metadata": {
        "colab": {
          "base_uri": "https://localhost:8080/",
          "height": 90
        },
        "id": "41GsLQWCTPwW",
        "outputId": "4884185d-0398-47ba-c9ee-3e2d4849c7f4"
      },
      "execution_count": 21,
      "outputs": [
        {
          "output_type": "display_data",
          "data": {
            "text/plain": [
              "<IPython.core.display.HTML object>"
            ],
            "text/html": [
              "\n",
              "     <input type=\"file\" id=\"files-6675e81a-277c-4267-8ec9-bf626bf6f9fc\" name=\"files[]\" multiple disabled\n",
              "        style=\"border:none\" />\n",
              "     <output id=\"result-6675e81a-277c-4267-8ec9-bf626bf6f9fc\">\n",
              "      Upload widget is only available when the cell has been executed in the\n",
              "      current browser session. Please rerun this cell to enable.\n",
              "      </output>\n",
              "      <script>// Copyright 2017 Google LLC\n",
              "//\n",
              "// Licensed under the Apache License, Version 2.0 (the \"License\");\n",
              "// you may not use this file except in compliance with the License.\n",
              "// You may obtain a copy of the License at\n",
              "//\n",
              "//      http://www.apache.org/licenses/LICENSE-2.0\n",
              "//\n",
              "// Unless required by applicable law or agreed to in writing, software\n",
              "// distributed under the License is distributed on an \"AS IS\" BASIS,\n",
              "// WITHOUT WARRANTIES OR CONDITIONS OF ANY KIND, either express or implied.\n",
              "// See the License for the specific language governing permissions and\n",
              "// limitations under the License.\n",
              "\n",
              "/**\n",
              " * @fileoverview Helpers for google.colab Python module.\n",
              " */\n",
              "(function(scope) {\n",
              "function span(text, styleAttributes = {}) {\n",
              "  const element = document.createElement('span');\n",
              "  element.textContent = text;\n",
              "  for (const key of Object.keys(styleAttributes)) {\n",
              "    element.style[key] = styleAttributes[key];\n",
              "  }\n",
              "  return element;\n",
              "}\n",
              "\n",
              "// Max number of bytes which will be uploaded at a time.\n",
              "const MAX_PAYLOAD_SIZE = 100 * 1024;\n",
              "\n",
              "function _uploadFiles(inputId, outputId) {\n",
              "  const steps = uploadFilesStep(inputId, outputId);\n",
              "  const outputElement = document.getElementById(outputId);\n",
              "  // Cache steps on the outputElement to make it available for the next call\n",
              "  // to uploadFilesContinue from Python.\n",
              "  outputElement.steps = steps;\n",
              "\n",
              "  return _uploadFilesContinue(outputId);\n",
              "}\n",
              "\n",
              "// This is roughly an async generator (not supported in the browser yet),\n",
              "// where there are multiple asynchronous steps and the Python side is going\n",
              "// to poll for completion of each step.\n",
              "// This uses a Promise to block the python side on completion of each step,\n",
              "// then passes the result of the previous step as the input to the next step.\n",
              "function _uploadFilesContinue(outputId) {\n",
              "  const outputElement = document.getElementById(outputId);\n",
              "  const steps = outputElement.steps;\n",
              "\n",
              "  const next = steps.next(outputElement.lastPromiseValue);\n",
              "  return Promise.resolve(next.value.promise).then((value) => {\n",
              "    // Cache the last promise value to make it available to the next\n",
              "    // step of the generator.\n",
              "    outputElement.lastPromiseValue = value;\n",
              "    return next.value.response;\n",
              "  });\n",
              "}\n",
              "\n",
              "/**\n",
              " * Generator function which is called between each async step of the upload\n",
              " * process.\n",
              " * @param {string} inputId Element ID of the input file picker element.\n",
              " * @param {string} outputId Element ID of the output display.\n",
              " * @return {!Iterable<!Object>} Iterable of next steps.\n",
              " */\n",
              "function* uploadFilesStep(inputId, outputId) {\n",
              "  const inputElement = document.getElementById(inputId);\n",
              "  inputElement.disabled = false;\n",
              "\n",
              "  const outputElement = document.getElementById(outputId);\n",
              "  outputElement.innerHTML = '';\n",
              "\n",
              "  const pickedPromise = new Promise((resolve) => {\n",
              "    inputElement.addEventListener('change', (e) => {\n",
              "      resolve(e.target.files);\n",
              "    });\n",
              "  });\n",
              "\n",
              "  const cancel = document.createElement('button');\n",
              "  inputElement.parentElement.appendChild(cancel);\n",
              "  cancel.textContent = 'Cancel upload';\n",
              "  const cancelPromise = new Promise((resolve) => {\n",
              "    cancel.onclick = () => {\n",
              "      resolve(null);\n",
              "    };\n",
              "  });\n",
              "\n",
              "  // Wait for the user to pick the files.\n",
              "  const files = yield {\n",
              "    promise: Promise.race([pickedPromise, cancelPromise]),\n",
              "    response: {\n",
              "      action: 'starting',\n",
              "    }\n",
              "  };\n",
              "\n",
              "  cancel.remove();\n",
              "\n",
              "  // Disable the input element since further picks are not allowed.\n",
              "  inputElement.disabled = true;\n",
              "\n",
              "  if (!files) {\n",
              "    return {\n",
              "      response: {\n",
              "        action: 'complete',\n",
              "      }\n",
              "    };\n",
              "  }\n",
              "\n",
              "  for (const file of files) {\n",
              "    const li = document.createElement('li');\n",
              "    li.append(span(file.name, {fontWeight: 'bold'}));\n",
              "    li.append(span(\n",
              "        `(${file.type || 'n/a'}) - ${file.size} bytes, ` +\n",
              "        `last modified: ${\n",
              "            file.lastModifiedDate ? file.lastModifiedDate.toLocaleDateString() :\n",
              "                                    'n/a'} - `));\n",
              "    const percent = span('0% done');\n",
              "    li.appendChild(percent);\n",
              "\n",
              "    outputElement.appendChild(li);\n",
              "\n",
              "    const fileDataPromise = new Promise((resolve) => {\n",
              "      const reader = new FileReader();\n",
              "      reader.onload = (e) => {\n",
              "        resolve(e.target.result);\n",
              "      };\n",
              "      reader.readAsArrayBuffer(file);\n",
              "    });\n",
              "    // Wait for the data to be ready.\n",
              "    let fileData = yield {\n",
              "      promise: fileDataPromise,\n",
              "      response: {\n",
              "        action: 'continue',\n",
              "      }\n",
              "    };\n",
              "\n",
              "    // Use a chunked sending to avoid message size limits. See b/62115660.\n",
              "    let position = 0;\n",
              "    do {\n",
              "      const length = Math.min(fileData.byteLength - position, MAX_PAYLOAD_SIZE);\n",
              "      const chunk = new Uint8Array(fileData, position, length);\n",
              "      position += length;\n",
              "\n",
              "      const base64 = btoa(String.fromCharCode.apply(null, chunk));\n",
              "      yield {\n",
              "        response: {\n",
              "          action: 'append',\n",
              "          file: file.name,\n",
              "          data: base64,\n",
              "        },\n",
              "      };\n",
              "\n",
              "      let percentDone = fileData.byteLength === 0 ?\n",
              "          100 :\n",
              "          Math.round((position / fileData.byteLength) * 100);\n",
              "      percent.textContent = `${percentDone}% done`;\n",
              "\n",
              "    } while (position < fileData.byteLength);\n",
              "  }\n",
              "\n",
              "  // All done.\n",
              "  yield {\n",
              "    response: {\n",
              "      action: 'complete',\n",
              "    }\n",
              "  };\n",
              "}\n",
              "\n",
              "scope.google = scope.google || {};\n",
              "scope.google.colab = scope.google.colab || {};\n",
              "scope.google.colab._files = {\n",
              "  _uploadFiles,\n",
              "  _uploadFilesContinue,\n",
              "};\n",
              "})(self);\n",
              "</script> "
            ]
          },
          "metadata": {}
        },
        {
          "output_type": "stream",
          "name": "stdout",
          "text": [
            "Saving kaggle.json to kaggle.json\n"
          ]
        },
        {
          "output_type": "execute_result",
          "data": {
            "text/plain": [
              "{'kaggle.json': b'{\"username\":\"adas754\",\"key\":\"9eec85e50969c3e607ffdf6487671da6\"}'}"
            ]
          },
          "metadata": {},
          "execution_count": 21
        }
      ]
    },
    {
      "cell_type": "markdown",
      "source": [
        "### kaggle dataset"
      ],
      "metadata": {
        "id": "MmIyiTQ7Tj3I"
      }
    },
    {
      "cell_type": "code",
      "source": [
        "!kaggle datasets download -d andrewmvd/car-plate-detection"
      ],
      "metadata": {
        "colab": {
          "base_uri": "https://localhost:8080/"
        },
        "id": "Tkxt51QeTeAo",
        "outputId": "113f4659-7287-4be8-dbf1-8fba1d6c2b69"
      },
      "execution_count": 22,
      "outputs": [
        {
          "output_type": "stream",
          "name": "stdout",
          "text": [
            "Warning: Looks like you're using an outdated API Version, please consider updating (server 1.6.14 / client 1.6.12)\n",
            "Dataset URL: https://www.kaggle.com/datasets/andrewmvd/car-plate-detection\n",
            "License(s): CC0-1.0\n",
            "Downloading car-plate-detection.zip to /content\n",
            " 91% 185M/203M [00:01<00:00, 113MB/s] \n",
            "100% 203M/203M [00:02<00:00, 103MB/s]\n"
          ]
        }
      ]
    },
    {
      "cell_type": "code",
      "source": [
        "from zipfile import ZipFile\n",
        "\n",
        "def extract_zip(zip_file, extract_path):\n",
        "    \"\"\"\n",
        "    Extracts the contents of a zip file to a specified directory.\n",
        "\n",
        "    Parameters:\n",
        "        - zip_file (str): Path to the zip file.\n",
        "        - extract_path (str): Directory path where the contents will be extracted.\n",
        "    \"\"\"\n",
        "    with ZipFile(zip_file, 'r') as zip_ref:\n",
        "        zip_ref.extractall(extract_path)\n",
        "\n",
        "    print('Extraction complete.')\n",
        "zip_file_path = \"/content/car-plate-detection.zip\"\n",
        "extract_path = \"/content/extracted_files\"\n",
        "extract_zip(zip_file_path, extract_path)\n"
      ],
      "metadata": {
        "colab": {
          "base_uri": "https://localhost:8080/"
        },
        "id": "oYNK55oTTpw2",
        "outputId": "470d57f7-0764-4808-c00a-74d94e70f017"
      },
      "execution_count": 23,
      "outputs": [
        {
          "output_type": "stream",
          "name": "stdout",
          "text": [
            "Extraction complete.\n"
          ]
        }
      ]
    },
    {
      "cell_type": "markdown",
      "source": [
        "## Install some dependencies"
      ],
      "metadata": {
        "id": "8xDIlAznUW9c"
      }
    },
    {
      "cell_type": "code",
      "source": [
        "import os\n",
        "import cv2\n",
        "import pytesseract\n",
        "import numpy as np\n",
        "import xml.etree.ElementTree as ET\n",
        "import pandas as pd\n",
        "import matplotlib.pyplot as plt\n"
      ],
      "metadata": {
        "id": "iRKtAXclT5WF"
      },
      "execution_count": 60,
      "outputs": []
    },
    {
      "cell_type": "markdown",
      "source": [
        "### imagepath and annotation path"
      ],
      "metadata": {
        "id": "WBnpvuVhWAR9"
      }
    },
    {
      "cell_type": "code",
      "source": [
        "image_base_path = '/content/extracted_files/images'\n",
        "annotation_base_path = '/content/extracted_files/annotations'"
      ],
      "metadata": {
        "id": "ZYOkST0JWEay"
      },
      "execution_count": 52,
      "outputs": []
    },
    {
      "cell_type": "markdown",
      "source": [
        "## Displaying all the images in dataset"
      ],
      "metadata": {
        "id": "2uEfGhBfUflZ"
      }
    },
    {
      "cell_type": "code",
      "source": [
        "def display_image(img, title=\"\"):\n",
        "    plt.figure(figsize=(10, 10))\n",
        "    plt.imshow(cv2.cvtColor(img, cv2.COLOR_BGR2RGB))\n",
        "    plt.title(title)\n",
        "    plt.axis('off')  # Hide the axis\n",
        "    plt.show()"
      ],
      "metadata": {
        "id": "jK9-EMi-UbTZ"
      },
      "execution_count": 53,
      "outputs": []
    },
    {
      "cell_type": "markdown",
      "source": [
        "### read xml file"
      ],
      "metadata": {
        "id": "sxWZuuP6UwJv"
      }
    },
    {
      "cell_type": "code",
      "source": [
        "def read_annotation(xml_file):\n",
        "    tree = ET.parse(xml_file)\n",
        "    root = tree.getroot()\n",
        "    filename = root.find('filename').text\n",
        "    boxes = []\n",
        "\n",
        "    for member in root.findall('object'):\n",
        "        bndbox = member.find('bndbox')\n",
        "        if bndbox is not None:\n",
        "            xmin = bndbox.find('xmin')\n",
        "            ymin = bndbox.find('ymin')\n",
        "            xmax = bndbox.find('xmax')\n",
        "            ymax = bndbox.find('ymax')\n",
        "\n",
        "            if xmin is not None and ymin is not None and xmax is not None and ymax is not None:\n",
        "                box = (\n",
        "                    int(xmin.text),\n",
        "                    int(ymin.text),\n",
        "                    int(xmax.text),\n",
        "                    int(ymax.text)\n",
        "                )\n",
        "                boxes.append(box)\n",
        "    return filename, boxes\n"
      ],
      "metadata": {
        "id": "eNDHDjo6UrBv"
      },
      "execution_count": 54,
      "outputs": []
    },
    {
      "cell_type": "markdown",
      "source": [
        "## Data Preprocessing for OCR"
      ],
      "metadata": {
        "id": "YVh1hyURVS4p"
      }
    },
    {
      "cell_type": "code",
      "source": [
        "def preprocess_for_ocr(img):\n",
        "    # Convert to grayscale\n",
        "    gray = cv2.cvtColor(img, cv2.COLOR_BGR2GRAY)\n",
        "    # Apply bilateral filter to remove noise while keeping edges sharp\n",
        "    filtered = cv2.bilateralFilter(gray, 11, 17, 17)\n",
        "    # Perform edge detection\n",
        "    edged = cv2.Canny(filtered, 30, 200)\n",
        "    # Find contours and apply mask\n",
        "    contours, _ = cv2.findContours(edged.copy(), cv2.RETR_TREE, cv2.CHAIN_APPROX_SIMPLE)\n",
        "    if contours:\n",
        "        cnt = sorted(contours, key=cv2.contourArea, reverse=True)[0]\n",
        "        mask = np.zeros(gray.shape, np.uint8)\n",
        "        cv2.drawContours(mask, [cnt], 0, 255, -1)\n",
        "        img = cv2.bitwise_and(img, img, mask=mask)\n",
        "        return img\n",
        "    else:\n",
        "        return img"
      ],
      "metadata": {
        "id": "6eP5ASPIVWCL"
      },
      "execution_count": 55,
      "outputs": []
    },
    {
      "cell_type": "markdown",
      "source": [
        "### try to do Number plate detection"
      ],
      "metadata": {
        "id": "KawKUAkLVoL5"
      }
    },
    {
      "cell_type": "code",
      "source": [
        "def detect_number_plate(image_path, annotation_path):\n",
        "    filename, boxes = read_annotation(annotation_path)\n",
        "    image = cv2.imread(image_path)\n",
        "    detected_text = '0'  # Default to '0' if no text is detected\n",
        "\n",
        "    for box in boxes:\n",
        "        x_min, y_min, x_max, y_max = box\n",
        "        number_plate = image[y_min:y_max, x_min:x_max]\n",
        "        preprocessed_plate = preprocess_for_ocr(number_plate)\n",
        "        text = pytesseract.image_to_string(preprocessed_plate, config='--psm 8 -c tessedit_char_whitelist=ABCDEFGHIJKLMNOPQRSTUVWXYZ0123456789').strip()\n",
        "        if text:\n",
        "            detected_text = text\n",
        "            break  # only one number plate per image\n",
        "\n",
        "    return filename, detected_text"
      ],
      "metadata": {
        "id": "QHxkw-3eVrNl"
      },
      "execution_count": 56,
      "outputs": []
    },
    {
      "cell_type": "markdown",
      "source": [
        "## image preprocessing"
      ],
      "metadata": {
        "id": "iU4Nesd6ak_O"
      }
    },
    {
      "cell_type": "code",
      "source": [
        "def process_annotations(annotation_base_path, image_base_path):\n",
        "    \"\"\"\n",
        "    Process images using their corresponding annotations for number plate detection.\n",
        "\n",
        "    Parameters:\n",
        "        - annotation_base_path (str): Path to the directory containing annotation files.\n",
        "        - image_base_path (str): Path to the directory containing image files.\n",
        "\n",
        "    Returns:\n",
        "        - tuple: A tuple containing the lists of images with no detection and successful detections.\n",
        "    \"\"\"\n",
        "    # to hold the sorted results\n",
        "    no_detection = []\n",
        "    successful_detections = []\n",
        "    # all the annotation files\n",
        "    annotation_files = [f for f in os.listdir(annotation_base_path) if f.endswith('.xml')]\n",
        "    # Process each img with corresponding annotation\n",
        "    for annotation_file in annotation_files:\n",
        "        base_name = annotation_file.split('.')[0]\n",
        "        image_file = base_name + '.png'  # Adjust this if image format is different\n",
        "        image_path = os.path.join(image_base_path, image_file)\n",
        "        annotation_path = os.path.join(annotation_base_path, annotation_file)\n",
        "\n",
        "        if os.path.exists(image_path) and os.path.exists(annotation_path):\n",
        "            image_name, detected_number = detect_number_plate(image_path, annotation_path)\n",
        "            if detected_number == '0':\n",
        "                no_detection.append(image_name)\n",
        "            else:\n",
        "                successful_detections.append((image_name, detected_number))\n",
        "\n",
        "    return no_detection, successful_detections\n",
        "no_detection, successful_detections = process_annotations(annotation_base_path, image_base_path)\n"
      ],
      "metadata": {
        "id": "Y4TXMRYNaaTH"
      },
      "execution_count": 59,
      "outputs": []
    },
    {
      "cell_type": "markdown",
      "source": [
        "### visualization and summaries"
      ],
      "metadata": {
        "id": "Otx8j8n6cXBT"
      }
    },
    {
      "cell_type": "code",
      "source": [
        "def generate_detection_report(no_detection, successful_detections):\n",
        "    \"\"\"\n",
        "    Generate a detection report including summary statistics, detailed breakdown, and visualization.\n",
        "\n",
        "    Parameters:\n",
        "        - no_detection (list): List of image names with no detected number plates.\n",
        "        - successful_detections (list): List of tuples containing image names and detected number plates.\n",
        "\n",
        "    Returns:\n",
        "        - summary_df (DataFrame): Summary statistics dataframe.\n",
        "        - detailed_df (DataFrame): Detailed breakdown dataframe.\n",
        "    \"\"\"\n",
        "    # Calculate counts\n",
        "    no_detection_count = len(no_detection)\n",
        "    successful_detection_count = len(successful_detections)\n",
        "\n",
        "    # Summary statistics\n",
        "    summary_df = pd.DataFrame({\n",
        "        \"Category\": [\"No Detection\", \"Successful Detection\", \"Grand Total\"],\n",
        "        \"Count\": [no_detection_count, successful_detection_count, no_detection_count + successful_detection_count]\n",
        "    })\n",
        "\n",
        "    # Detailed breakdown\n",
        "    detailed_df = pd.DataFrame(successful_detections, columns=[\"Image Name\", \"Detected Registration Number\"])\n",
        "    no_detection_df = pd.DataFrame(no_detection, columns=[\"Image Name\"])\n",
        "    no_detection_df[\"Detected Registration Number\"] = \"0\"\n",
        "    combined_detailed_df = pd.concat([detailed_df, no_detection_df]).sort_values(\"Image Name\")\n",
        "\n",
        "    # Visualization\n",
        "    plt.figure(figsize=(10, 6))\n",
        "    plt.bar([\"No Detection\", \"Successful Detection\"], [no_detection_count, successful_detection_count])\n",
        "    plt.title(\"Detection Summary\")\n",
        "    plt.xlabel(\"Category\")\n",
        "    plt.ylabel(\"Count\")\n",
        "    plt.show()\n",
        "\n",
        "    return summary_df, combined_detailed_df\n",
        "summary_df, detailed_df = generate_detection_report(no_detection, successful_detections)\n",
        "print(\"Summary Statistics:\")\n",
        "print(summary_df)\n",
        "print(\"\\nDetailed Breakdown:\")\n",
        "print(detailed_df.to_string(index=False))\n"
      ],
      "metadata": {
        "colab": {
          "base_uri": "https://localhost:8080/",
          "height": 1000
        },
        "id": "MJpMgez1bOmD",
        "outputId": "7d06cbac-2145-433d-a587-c9526f8fbabc"
      },
      "execution_count": 61,
      "outputs": [
        {
          "output_type": "display_data",
          "data": {
            "text/plain": [
              "<Figure size 1000x600 with 1 Axes>"
            ],
            "image/png": "[encoded data removed]"
          },
          "metadata": {}
        },
        {
          "output_type": "stream",
          "name": "stdout",
          "text": [
            "Summary Statistics:\n",
            "               Category  Count\n",
            "0          No Detection    265\n",
            "1  Successful Detection    168\n",
            "2           Grand Total    433\n",
            "\n",
            "Detailed Breakdown:\n",
            " Image Name Detected Registration Number\n",
            "  Cars0.png                            0\n",
            "  Cars1.png                            2\n",
            " Cars10.png                            0\n",
            "Cars100.png                            C\n",
            "Cars101.png                            0\n",
            "Cars102.png                            0\n",
            "Cars103.png                            4\n",
            "Cars104.png                            0\n",
            "Cars105.png                           MD\n",
            "Cars106.png                           ER\n",
            "Cars107.png                            0\n",
            "Cars108.png                            0\n",
            "Cars109.png                            0\n",
            " Cars11.png                            0\n",
            "Cars110.png                           BO\n",
            "Cars111.png                            0\n",
            "Cars112.png                            0\n",
            "Cars113.png                            0\n",
            "Cars114.png                            0\n",
            "Cars115.png                            0\n",
            "Cars116.png                            1\n",
            "Cars117.png                            0\n",
            "Cars118.png                           BO\n",
            "Cars119.png                            J\n",
            " Cars12.png                            0\n",
            "Cars120.png                            2\n",
            "Cars121.png                            I\n",
            "Cars122.png                            0\n",
            "Cars123.png                            0\n",
            "Cars124.png                            0\n",
            "Cars125.png                            0\n",
            "Cars126.png                            0\n",
            "Cars127.png                            0\n",
            "Cars128.png                            0\n",
            "Cars129.png                           DO\n",
            " Cars13.png                            0\n",
            "Cars130.png                            0\n",
            "Cars131.png                            0\n",
            "Cars132.png                            0\n",
            "Cars133.png                            0\n",
            "Cars134.png                            0\n",
            "Cars135.png                            0\n",
            "Cars136.png                            1\n",
            "Cars137.png                            0\n",
            "Cars138.png                            0\n",
            "Cars139.png                           WS\n",
            " Cars14.png                           BO\n",
            "Cars140.png                   CHO1ANOOOL\n",
            "Cars141.png                           OO\n",
            "Cars142.png                            0\n",
            "Cars143.png                          BST\n",
            "Cars144.png                           PS\n",
            "Cars145.png                           OT\n",
            "Cars146.png                            2\n",
            "Cars147.png                            0\n",
            "Cars148.png                            0\n",
            "Cars149.png                            5\n",
            " Cars15.png                            0\n",
            "Cars150.png                           BS\n",
            "Cars151.png                            0\n",
            "Cars152.png                           BO\n",
            "Cars153.png                            0\n",
            "Cars154.png                            B\n",
            "Cars155.png                            8\n",
            "Cars156.png                            0\n",
            "Cars157.png                            0\n",
            "Cars158.png                            0\n",
            "Cars159.png                            W\n",
            " Cars16.png                            0\n",
            "Cars160.png                           ZT\n",
            "Cars161.png                            0\n",
            "Cars162.png                            L\n",
            "Cars163.png                           OE\n",
            "Cars164.png                            0\n",
            "Cars165.png                            0\n",
            "Cars166.png                            B\n",
            "Cars167.png                    15LK10898\n",
            "Cars168.png                            S\n",
            "Cars169.png                            0\n",
            " Cars17.png                            0\n",
            "Cars170.png                            0\n",
            "Cars171.png                            0\n",
            "Cars172.png                            0\n",
            "Cars173.png                            0\n",
            "Cars174.png                           SS\n",
            "Cars175.png                            0\n",
            "Cars176.png                            0\n",
            "Cars177.png                            0\n",
            "Cars178.png                            2\n",
            "Cars179.png                            0\n",
            " Cars18.png                            0\n",
            "Cars180.png                            P\n",
            "Cars181.png                            T\n",
            "Cars182.png                            A\n",
            "Cars183.png                           SO\n",
            "Cars184.png                            D\n",
            "Cars185.png                           BO\n",
            "Cars186.png                            0\n",
            "Cars187.png                            0\n",
            "Cars188.png                            0\n",
            "Cars189.png                            O\n",
            " Cars19.png                           OF\n",
            "Cars190.png                            0\n",
            "Cars191.png                           BO\n",
            "Cars192.png                           BO\n",
            "Cars193.png                            7\n",
            "Cars194.png                            0\n",
            "Cars195.png                           ST\n",
            "Cars196.png                            0\n",
            "Cars197.png                            0\n",
            "Cars198.png                            0\n",
            "Cars199.png                            0\n",
            "  Cars2.png                          OIE\n",
            " Cars20.png                            0\n",
            "Cars200.png                           BO\n",
            "Cars201.png                      CR33TEE\n",
            "Cars202.png                        LKWIJ\n",
            "Cars203.png                            0\n",
            "Cars204.png                            0\n",
            "Cars205.png                            0\n",
            "Cars206.png                   HR26BU0320\n",
            "Cars207.png                            0\n",
            "Cars208.png                            0\n",
            "Cars209.png                            0\n",
            " Cars21.png                            0\n",
            "Cars210.png                            0\n",
            "Cars211.png                            0\n",
            "Cars212.png                            0\n",
            "Cars213.png                            0\n",
            "Cars214.png                            0\n",
            "Cars215.png                      3CH9984\n",
            "Cars216.png                            0\n",
            "Cars217.png                            0\n",
            "Cars218.png                            0\n",
            "Cars219.png                            0\n",
            " Cars22.png                            0\n",
            "Cars220.png                           LB\n",
            "Cars221.png                            0\n",
            "Cars222.png                            0\n",
            "Cars223.png                          43I\n",
            "Cars224.png                            0\n",
            "Cars225.png                            0\n",
            "Cars226.png                   HTN19S4523\n",
            "Cars227.png                            0\n",
            "Cars228.png                            7\n",
            "Cars229.png                            0\n",
            " Cars23.png                            0\n",
            "Cars230.png                            2\n",
            "Cars231.png                      GBI8TCE\n",
            "Cars232.png                           DS\n",
            "Cars233.png                            0\n",
            "Cars234.png                           UO\n",
            "Cars235.png                            0\n",
            "Cars236.png                            0\n",
            "Cars237.png                            0\n",
            "Cars238.png                            0\n",
            "Cars239.png                           BG\n",
            " Cars24.png                            0\n",
            "Cars240.png                            0\n",
            "Cars241.png                           MM\n",
            "Cars242.png                            E\n",
            "Cars243.png                            0\n",
            "Cars244.png                            0\n",
            "Cars245.png                            0\n",
            "Cars246.png                            0\n",
            "Cars247.png                            0\n",
            "Cars248.png                            0\n",
            "Cars249.png                           CC\n",
            " Cars25.png                            0\n",
            "Cars250.png                     BPGMN112\n",
            "Cars251.png                     HS82FKLI\n",
            "Cars252.png                           BP\n",
            "Cars253.png                            0\n",
            "Cars254.png                            0\n",
            "Cars255.png                            0\n",
            "Cars256.png                           BB\n",
            "Cars257.png                            0\n",
            "Cars258.png                            0\n",
            "Cars259.png                            0\n",
            " Cars26.png                           US\n",
            "Cars260.png                            0\n",
            "Cars261.png                            0\n",
            "Cars262.png                            7\n",
            "Cars263.png                            0\n",
            "Cars264.png                           BT\n",
            "Cars265.png                      M771276\n",
            "Cars266.png                           07\n",
            "Cars267.png                       OA7222\n",
            "Cars268.png                            1\n",
            "Cars269.png                            0\n",
            " Cars27.png                           DO\n",
            "Cars270.png                           AN\n",
            "Cars271.png                            0\n",
            "Cars272.png                            0\n",
            "Cars273.png                     BRIT0001\n",
            "Cars274.png                            0\n",
            "Cars275.png                           ME\n",
            "Cars276.png                      CZI7KOD\n",
            "Cars277.png                            0\n",
            "Cars278.png                            0\n",
            "Cars279.png                            0\n",
            " Cars28.png                           SL\n",
            "Cars280.png                            0\n",
            "Cars281.png                           OT\n",
            "Cars282.png                            0\n",
            "Cars283.png                            0\n",
            "Cars284.png                            0\n",
            "Cars285.png                            0\n",
            "Cars286.png                            0\n",
            "Cars287.png                   F0L7CN5617\n",
            "Cars288.png                      1BATMAK\n",
            "Cars289.png                            0\n",
            " Cars29.png                            0\n",
            "Cars290.png                            0\n",
            "Cars291.png                            0\n",
            "Cars292.png                            9\n",
            "Cars293.png                            0\n",
            "Cars294.png                            0\n",
            "Cars295.png                            7\n",
            "Cars296.png                            0\n",
            "Cars297.png                            0\n",
            "Cars298.png                            0\n",
            "Cars299.png                           DB\n",
            "  Cars3.png                            2\n",
            " Cars30.png                            W\n",
            "Cars300.png                            0\n",
            "Cars301.png                            0\n",
            "Cars302.png                            0\n",
            "Cars303.png                           BG\n",
            "Cars304.png                            0\n",
            "Cars305.png                           2S\n",
            "Cars306.png                      SLAWYER\n",
            "Cars307.png                            0\n",
            "Cars308.png                           PR\n",
            "Cars309.png                            T\n",
            " Cars31.png                            0\n",
            "Cars310.png                            0\n",
            "Cars311.png                            0\n",
            "Cars312.png                            0\n",
            "Cars313.png                            0\n",
            "Cars314.png                            0\n",
            "Cars315.png                            0\n",
            "Cars316.png                           SA\n",
            "Cars317.png                            P\n",
            "Cars318.png                            8\n",
            "Cars319.png                            0\n",
            " Cars32.png                           OR\n",
            "Cars320.png                            0\n",
            "Cars321.png                       HOLOLJ\n",
            "Cars322.png                            0\n",
            "Cars323.png                            0\n",
            "Cars324.png                            0\n",
            "Cars325.png                            0\n",
            "Cars326.png                           BO\n",
            "Cars327.png                      PGMN112\n",
            "Cars328.png                            0\n",
            "Cars329.png                            0\n",
            " Cars33.png                            0\n",
            "Cars330.png                            7\n",
            "Cars331.png                     26081900\n",
            "Cars332.png                            0\n",
            "Cars333.png                            0\n",
            "Cars334.png                            0\n",
            "Cars335.png                            0\n",
            "Cars336.png                     BPLK4950\n",
            "Cars337.png                            7\n",
            "Cars338.png                            0\n",
            "Cars339.png                         HATO\n",
            " Cars34.png                            B\n",
            "Cars340.png                            0\n",
            "Cars341.png                            0\n",
            "Cars342.png                           OR\n",
            "Cars343.png                            0\n",
            "Cars344.png                            0\n",
            "Cars345.png                            0\n",
            "Cars346.png                            0\n",
            "Cars347.png                            0\n",
            "Cars348.png                            4\n",
            "Cars349.png                            0\n",
            " Cars35.png                           OM\n",
            "Cars350.png                            0\n",
            "Cars351.png                            0\n",
            "Cars352.png                           TL\n",
            "Cars353.png                            0\n",
            "Cars354.png                            0\n",
            "Cars355.png                            G\n",
            "Cars356.png                            0\n",
            "Cars357.png                           SF\n",
            "Cars358.png                            2\n",
            "Cars359.png                            0\n",
            " Cars36.png                            0\n",
            "Cars360.png                            1\n",
            "Cars361.png                            P\n",
            "Cars362.png                            0\n",
            "Cars363.png                            A\n",
            "Cars364.png                            0\n",
            "Cars365.png                            0\n",
            "Cars366.png                           BS\n",
            "Cars367.png                     BGOOGLES\n",
            "Cars368.png                            0\n",
            "Cars369.png                            0\n",
            " Cars37.png                            0\n",
            "Cars370.png                            0\n",
            "Cars371.png                            0\n",
            "Cars372.png                            0\n",
            "Cars373.png                            0\n",
            "Cars374.png                            0\n",
            "Cars375.png                            4\n",
            "Cars376.png                            2\n",
            "Cars377.png                            F\n",
            "Cars378.png                            0\n",
            "Cars379.png                            0\n",
            " Cars38.png                            0\n",
            "Cars380.png                            0\n",
            "Cars381.png                            0\n",
            "Cars382.png                           RR\n",
            "Cars383.png                            0\n",
            "Cars384.png                            7\n",
            "Cars385.png                           ST\n",
            "Cars386.png                            0\n",
            "Cars387.png                    H25123227\n",
            "Cars388.png                            0\n",
            "Cars389.png                            0\n",
            " Cars39.png                            0\n",
            "Cars390.png                            F\n",
            "Cars391.png                            4\n",
            "Cars392.png                            1\n",
            "Cars393.png                            0\n",
            "Cars394.png                            0\n",
            "Cars395.png                           BS\n",
            "Cars396.png                            S\n",
            "Cars397.png                            0\n",
            "Cars398.png                            0\n",
            "Cars399.png                            0\n",
            "  Cars4.png                           PP\n",
            " Cars40.png                            0\n",
            "Cars400.png                            0\n",
            "Cars401.png                           CR\n",
            "Cars402.png                            0\n",
            "Cars403.png                            R\n",
            "Cars404.png                           TF\n",
            "Cars405.png                            0\n",
            "Cars406.png                            0\n",
            "Cars407.png                            0\n",
            "Cars408.png                            0\n",
            "Cars409.png                           RA\n",
            " Cars41.png                            7\n",
            "Cars410.png                            0\n",
            "Cars411.png                            0\n",
            "Cars412.png                           UE\n",
            "Cars413.png                            0\n",
            "Cars414.png                            0\n",
            "Cars415.png                   MHABNESS22\n",
            "Cars416.png                            0\n",
            "Cars417.png                            0\n",
            "Cars418.png                            0\n",
            "Cars419.png                            0\n",
            " Cars42.png                            0\n",
            "Cars420.png                            J\n",
            "Cars421.png                            N\n",
            "Cars422.png                            0\n",
            "Cars423.png                            0\n",
            "Cars424.png                            0\n",
            "Cars425.png                            0\n",
            "Cars426.png                           RO\n",
            "Cars427.png                           CD\n",
            "Cars428.png                           DP\n",
            "Cars429.png                            0\n",
            " Cars43.png                            0\n",
            "Cars430.png                            C\n",
            "Cars431.png                            0\n",
            "Cars432.png                           BO\n",
            " Cars44.png                  BDL2CAGG786\n",
            " Cars45.png                            7\n",
            " Cars46.png                         9299\n",
            " Cars47.png                            0\n",
            " Cars48.png                            0\n",
            " Cars49.png                           MO\n",
            "  Cars5.png                            0\n",
            " Cars50.png                           PO\n",
            " Cars51.png                            0\n",
            " Cars52.png                            0\n",
            " Cars53.png                           WO\n",
            " Cars54.png                       LTM378\n",
            " Cars55.png                            0\n",
            " Cars56.png                            0\n",
            " Cars57.png                            0\n",
            " Cars58.png                          BOF\n",
            " Cars59.png                            0\n",
            "  Cars6.png                            0\n",
            " Cars60.png                            0\n",
            " Cars61.png                            0\n",
            " Cars62.png                            0\n",
            " Cars63.png                            0\n",
            " Cars64.png                            0\n",
            " Cars65.png                            0\n",
            " Cars66.png                            0\n",
            " Cars67.png                            0\n",
            " Cars68.png                            0\n",
            " Cars69.png                            0\n",
            "  Cars7.png                            T\n",
            " Cars70.png                            0\n",
            " Cars71.png                            P\n",
            " Cars72.png                            0\n",
            " Cars73.png                      TNF2378\n",
            " Cars74.png                            0\n",
            " Cars75.png                            0\n",
            " Cars76.png                            0\n",
            " Cars77.png                            0\n",
            " Cars78.png                           BO\n",
            " Cars79.png                            0\n",
            "  Cars8.png                           BO\n",
            " Cars80.png                            0\n",
            " Cars81.png                            F\n",
            " Cars82.png                            C\n",
            " Cars83.png                            0\n",
            " Cars84.png                            0\n",
            " Cars85.png                           TT\n",
            " Cars86.png                            0\n",
            " Cars87.png                           BU\n",
            " Cars88.png                           SO\n",
            " Cars89.png                           TS\n",
            "  Cars9.png                            0\n",
            " Cars90.png                            0\n",
            " Cars91.png                            0\n",
            " Cars92.png                            0\n",
            " Cars93.png                           LB\n",
            " Cars94.png                            0\n",
            " Cars95.png                            0\n",
            " Cars96.png                     BPGMN112\n",
            " Cars97.png                            0\n",
            " Cars98.png                            0\n",
            " Cars99.png                            0\n"
          ]
        }
      ]
    },
    {
      "cell_type": "markdown",
      "source": [
        "#### using Distilbert"
      ],
      "metadata": {
        "id": "kosYb-nI89C7"
      }
    },
    {
      "cell_type": "code",
      "source": [
        "!pip install -q \\\n",
        "autodistill \\\n",
        "autodistill-grounded-sam \\\n",
        "autodistill-yolov8 \\\n",
        "supervision==0.9.0"
      ],
      "metadata": {
        "id": "XyByTEG4yrtt"
      },
      "execution_count": 16,
      "outputs": []
    },
    {
      "cell_type": "code",
      "source": [
        "IMAGE_DIR_PATH = f\"/content/extracted_files/images\""
      ],
      "metadata": {
        "id": "f3jHphr1yyau"
      },
      "execution_count": 17,
      "outputs": []
    },
    {
      "cell_type": "code",
      "source": [
        "SAMPLE_SIZE =16\n",
        "SAMPLE_GRID_SIZE = (4,4)\n",
        "SAMPLE_PLOT_SIZE = (16,16)"
      ],
      "metadata": {
        "id": "q9etJWvYy6vW"
      },
      "execution_count": 18,
      "outputs": []
    },
    {
      "cell_type": "code",
      "source": [
        "from autodistill.detection import CaptionOntology\n",
        "\n",
        "ontology = CaptionOntology({\n",
        "    \"license plate\": \"license plate\"\n",
        "})"
      ],
      "metadata": {
        "id": "t7KgVKoBy-fL"
      },
      "execution_count": 19,
      "outputs": []
    },
    {
      "cell_type": "code",
      "source": [
        "!pip install autodistill autodistill-grounded-sam autodistill-yolov8"
      ],
      "metadata": {
        "colab": {
          "base_uri": "https://localhost:8080/"
        },
        "collapsed": true,
        "id": "MyA_WZzDzR_C",
        "outputId": "cb73cc7b-8132-4ef7-df70-0d91d5e3d503"
      },
      "execution_count": 3,
      "outputs": [
        {
          "output_type": "stream",
          "name": "stdout",
          "text": [
            "Requirement already satisfied: autodistill in /usr/local/lib/python3.10/dist-packages (0.1.26)\n",
            "Requirement already satisfied: autodistill-grounded-sam in /usr/local/lib/python3.10/dist-packages (0.1.2)\n",
            "Requirement already satisfied: autodistill-yolov8 in /usr/local/lib/python3.10/dist-packages (0.1.4)\n",
            "Requirement already satisfied: opencv-python>=4.6.0 in /usr/local/lib/python3.10/dist-packages (from autodistill) (4.8.0.76)\n",
            "Requirement already satisfied: supervision in /usr/local/lib/python3.10/dist-packages (from autodistill) (0.9.0)\n",
            "Requirement already satisfied: tqdm in /usr/local/lib/python3.10/dist-packages (from autodistill) (4.66.4)\n",
            "Requirement already satisfied: Pillow>=7.1.2 in /usr/local/lib/python3.10/dist-packages (from autodistill) (9.4.0)\n",
            "Requirement already satisfied: PyYAML>=5.3.1 in /usr/local/lib/python3.10/dist-packages (from autodistill) (6.0.1)\n",
            "Requirement already satisfied: click in /usr/local/lib/python3.10/dist-packages (from autodistill) (8.1.7)\n",
            "Requirement already satisfied: torch in /usr/local/lib/python3.10/dist-packages (from autodistill-grounded-sam) (2.2.1+cu121)\n",
            "Requirement already satisfied: numpy>=1.20.0 in /usr/local/lib/python3.10/dist-packages (from autodistill-grounded-sam) (1.25.2)\n",
            "Requirement already satisfied: rf-groundingdino in /usr/local/lib/python3.10/dist-packages (from autodistill-grounded-sam) (0.2.0)\n",
            "Requirement already satisfied: rf-segment-anything in /usr/local/lib/python3.10/dist-packages (from autodistill-grounded-sam) (1.0)\n",
            "Requirement already satisfied: ultralytics==8.0.81 in /usr/local/lib/python3.10/dist-packages (from autodistill-yolov8) (8.0.81)\n",
            "Requirement already satisfied: matplotlib>=3.2.2 in /usr/local/lib/python3.10/dist-packages (from ultralytics==8.0.81->autodistill-yolov8) (3.7.1)\n",
            "Requirement already satisfied: requests>=2.23.0 in /usr/local/lib/python3.10/dist-packages (from ultralytics==8.0.81->autodistill-yolov8) (2.31.0)\n",
            "Requirement already satisfied: scipy>=1.4.1 in /usr/local/lib/python3.10/dist-packages (from ultralytics==8.0.81->autodistill-yolov8) (1.11.4)\n",
            "Requirement already satisfied: torchvision>=0.8.1 in /usr/local/lib/python3.10/dist-packages (from ultralytics==8.0.81->autodistill-yolov8) (0.17.1+cu121)\n",
            "Requirement already satisfied: pandas>=1.1.4 in /usr/local/lib/python3.10/dist-packages (from ultralytics==8.0.81->autodistill-yolov8) (2.0.3)\n",
            "Requirement already satisfied: seaborn>=0.11.0 in /usr/local/lib/python3.10/dist-packages (from ultralytics==8.0.81->autodistill-yolov8) (0.13.1)\n",
            "Requirement already satisfied: psutil in /usr/local/lib/python3.10/dist-packages (from ultralytics==8.0.81->autodistill-yolov8) (5.9.5)\n",
            "Requirement already satisfied: thop>=0.1.1 in /usr/local/lib/python3.10/dist-packages (from ultralytics==8.0.81->autodistill-yolov8) (0.1.1.post2209072238)\n",
            "Requirement already satisfied: sentry-sdk in /usr/local/lib/python3.10/dist-packages (from ultralytics==8.0.81->autodistill-yolov8) (2.2.0)\n",
            "Requirement already satisfied: filelock in /usr/local/lib/python3.10/dist-packages (from torch->autodistill-grounded-sam) (3.14.0)\n",
            "Requirement already satisfied: typing-extensions>=4.8.0 in /usr/local/lib/python3.10/dist-packages (from torch->autodistill-grounded-sam) (4.11.0)\n",
            "Requirement already satisfied: sympy in /usr/local/lib/python3.10/dist-packages (from torch->autodistill-grounded-sam) (1.12)\n",
            "Requirement already satisfied: networkx in /usr/local/lib/python3.10/dist-packages (from torch->autodistill-grounded-sam) (3.3)\n",
            "Requirement already satisfied: jinja2 in /usr/local/lib/python3.10/dist-packages (from torch->autodistill-grounded-sam) (3.1.4)\n",
            "Requirement already satisfied: fsspec in /usr/local/lib/python3.10/dist-packages (from torch->autodistill-grounded-sam) (2023.6.0)\n",
            "Requirement already satisfied: nvidia-cuda-nvrtc-cu12==12.1.105 in /usr/local/lib/python3.10/dist-packages (from torch->autodistill-grounded-sam) (12.1.105)\n",
            "Requirement already satisfied: nvidia-cuda-runtime-cu12==12.1.105 in /usr/local/lib/python3.10/dist-packages (from torch->autodistill-grounded-sam) (12.1.105)\n",
            "Requirement already satisfied: nvidia-cuda-cupti-cu12==12.1.105 in /usr/local/lib/python3.10/dist-packages (from torch->autodistill-grounded-sam) (12.1.105)\n",
            "Requirement already satisfied: nvidia-cudnn-cu12==8.9.2.26 in /usr/local/lib/python3.10/dist-packages (from torch->autodistill-grounded-sam) (8.9.2.26)\n",
            "Requirement already satisfied: nvidia-cublas-cu12==12.1.3.1 in /usr/local/lib/python3.10/dist-packages (from torch->autodistill-grounded-sam) (12.1.3.1)\n",
            "Requirement already satisfied: nvidia-cufft-cu12==11.0.2.54 in /usr/local/lib/python3.10/dist-packages (from torch->autodistill-grounded-sam) (11.0.2.54)\n",
            "Requirement already satisfied: nvidia-curand-cu12==10.3.2.106 in /usr/local/lib/python3.10/dist-packages (from torch->autodistill-grounded-sam) (10.3.2.106)\n",
            "Requirement already satisfied: nvidia-cusolver-cu12==11.4.5.107 in /usr/local/lib/python3.10/dist-packages (from torch->autodistill-grounded-sam) (11.4.5.107)\n",
            "Requirement already satisfied: nvidia-cusparse-cu12==12.1.0.106 in /usr/local/lib/python3.10/dist-packages (from torch->autodistill-grounded-sam) (12.1.0.106)\n",
            "Requirement already satisfied: nvidia-nccl-cu12==2.19.3 in /usr/local/lib/python3.10/dist-packages (from torch->autodistill-grounded-sam) (2.19.3)\n",
            "Requirement already satisfied: nvidia-nvtx-cu12==12.1.105 in /usr/local/lib/python3.10/dist-packages (from torch->autodistill-grounded-sam) (12.1.105)\n",
            "Requirement already satisfied: triton==2.2.0 in /usr/local/lib/python3.10/dist-packages (from torch->autodistill-grounded-sam) (2.2.0)\n",
            "Requirement already satisfied: nvidia-nvjitlink-cu12 in /usr/local/lib/python3.10/dist-packages (from nvidia-cusolver-cu12==11.4.5.107->torch->autodistill-grounded-sam) (12.4.127)\n",
            "Requirement already satisfied: transformers in /usr/local/lib/python3.10/dist-packages (from rf-groundingdino->autodistill-grounded-sam) (4.40.2)\n",
            "Requirement already satisfied: addict in /usr/local/lib/python3.10/dist-packages (from rf-groundingdino->autodistill-grounded-sam) (2.4.0)\n",
            "Requirement already satisfied: yapf in /usr/local/lib/python3.10/dist-packages (from rf-groundingdino->autodistill-grounded-sam) (0.40.2)\n",
            "Requirement already satisfied: timm in /usr/local/lib/python3.10/dist-packages (from rf-groundingdino->autodistill-grounded-sam) (1.0.3)\n",
            "Requirement already satisfied: pycocotools in /usr/local/lib/python3.10/dist-packages (from rf-groundingdino->autodistill-grounded-sam) (2.0.7)\n",
            "Requirement already satisfied: contourpy>=1.0.1 in /usr/local/lib/python3.10/dist-packages (from matplotlib>=3.2.2->ultralytics==8.0.81->autodistill-yolov8) (1.2.1)\n",
            "Requirement already satisfied: cycler>=0.10 in /usr/local/lib/python3.10/dist-packages (from matplotlib>=3.2.2->ultralytics==8.0.81->autodistill-yolov8) (0.10.0)\n",
            "Requirement already satisfied: fonttools>=4.22.0 in /usr/local/lib/python3.10/dist-packages (from matplotlib>=3.2.2->ultralytics==8.0.81->autodistill-yolov8) (4.51.0)\n",
            "Requirement already satisfied: kiwisolver>=1.0.1 in /usr/local/lib/python3.10/dist-packages (from matplotlib>=3.2.2->ultralytics==8.0.81->autodistill-yolov8) (1.4.5)\n",
            "Requirement already satisfied: packaging>=20.0 in /usr/local/lib/python3.10/dist-packages (from matplotlib>=3.2.2->ultralytics==8.0.81->autodistill-yolov8) (24.0)\n",
            "Requirement already satisfied: pyparsing>=2.3.1 in /usr/local/lib/python3.10/dist-packages (from matplotlib>=3.2.2->ultralytics==8.0.81->autodistill-yolov8) (3.1.2)\n",
            "Requirement already satisfied: python-dateutil>=2.7 in /usr/local/lib/python3.10/dist-packages (from matplotlib>=3.2.2->ultralytics==8.0.81->autodistill-yolov8) (2.8.2)\n",
            "Requirement already satisfied: pytz>=2020.1 in /usr/local/lib/python3.10/dist-packages (from pandas>=1.1.4->ultralytics==8.0.81->autodistill-yolov8) (2023.4)\n",
            "Requirement already satisfied: tzdata>=2022.1 in /usr/local/lib/python3.10/dist-packages (from pandas>=1.1.4->ultralytics==8.0.81->autodistill-yolov8) (2024.1)\n",
            "Requirement already satisfied: charset-normalizer<4,>=2 in /usr/local/lib/python3.10/dist-packages (from requests>=2.23.0->ultralytics==8.0.81->autodistill-yolov8) (3.3.2)\n",
            "Requirement already satisfied: idna<4,>=2.5 in /usr/local/lib/python3.10/dist-packages (from requests>=2.23.0->ultralytics==8.0.81->autodistill-yolov8) (2.10)\n",
            "Requirement already satisfied: urllib3<3,>=1.21.1 in /usr/local/lib/python3.10/dist-packages (from requests>=2.23.0->ultralytics==8.0.81->autodistill-yolov8) (2.0.7)\n",
            "Requirement already satisfied: certifi>=2017.4.17 in /usr/local/lib/python3.10/dist-packages (from requests>=2.23.0->ultralytics==8.0.81->autodistill-yolov8) (2023.7.22)\n",
            "Requirement already satisfied: MarkupSafe>=2.0 in /usr/local/lib/python3.10/dist-packages (from jinja2->torch->autodistill-grounded-sam) (2.1.5)\n",
            "Requirement already satisfied: mpmath>=0.19 in /usr/local/lib/python3.10/dist-packages (from sympy->torch->autodistill-grounded-sam) (1.3.0)\n",
            "Requirement already satisfied: huggingface_hub in /usr/local/lib/python3.10/dist-packages (from timm->rf-groundingdino->autodistill-grounded-sam) (0.23.0)\n",
            "Requirement already satisfied: safetensors in /usr/local/lib/python3.10/dist-packages (from timm->rf-groundingdino->autodistill-grounded-sam) (0.4.3)\n",
            "Requirement already satisfied: regex!=2019.12.17 in /usr/local/lib/python3.10/dist-packages (from transformers->rf-groundingdino->autodistill-grounded-sam) (2023.12.25)\n",
            "Requirement already satisfied: tokenizers<0.20,>=0.19 in /usr/local/lib/python3.10/dist-packages (from transformers->rf-groundingdino->autodistill-grounded-sam) (0.19.1)\n",
            "Requirement already satisfied: importlib-metadata>=6.6.0 in /usr/local/lib/python3.10/dist-packages (from yapf->rf-groundingdino->autodistill-grounded-sam) (7.1.0)\n",
            "Requirement already satisfied: platformdirs>=3.5.1 in /usr/local/lib/python3.10/dist-packages (from yapf->rf-groundingdino->autodistill-grounded-sam) (4.2.1)\n",
            "Requirement already satisfied: tomli>=2.0.1 in /usr/local/lib/python3.10/dist-packages (from yapf->rf-groundingdino->autodistill-grounded-sam) (2.0.1)\n",
            "Requirement already satisfied: six in /usr/local/lib/python3.10/dist-packages (from cycler>=0.10->matplotlib>=3.2.2->ultralytics==8.0.81->autodistill-yolov8) (1.16.0)\n",
            "Requirement already satisfied: zipp>=0.5 in /usr/local/lib/python3.10/dist-packages (from importlib-metadata>=6.6.0->yapf->rf-groundingdino->autodistill-grounded-sam) (3.18.1)\n"
          ]
        }
      ]
    },
    {
      "cell_type": "code",
      "source": [
        "!pip install roboflow"
      ],
      "metadata": {
        "colab": {
          "base_uri": "https://localhost:8080/"
        },
        "collapsed": true,
        "id": "8YiitCutzDev",
        "outputId": "26fa794c-6ea1-48c8-b456-e1ca7ad546b1"
      },
      "execution_count": 1,
      "outputs": [
        {
          "output_type": "stream",
          "name": "stdout",
          "text": [
            "Requirement already satisfied: roboflow in /usr/local/lib/python3.10/dist-packages (1.1.29)\n",
            "Requirement already satisfied: certifi==2023.7.22 in /usr/local/lib/python3.10/dist-packages (from roboflow) (2023.7.22)\n",
            "Requirement already satisfied: chardet==4.0.0 in /usr/local/lib/python3.10/dist-packages (from roboflow) (4.0.0)\n",
            "Requirement already satisfied: cycler==0.10.0 in /usr/local/lib/python3.10/dist-packages (from roboflow) (0.10.0)\n",
            "Requirement already satisfied: idna==2.10 in /usr/local/lib/python3.10/dist-packages (from roboflow) (2.10)\n",
            "Requirement already satisfied: kiwisolver>=1.3.1 in /usr/local/lib/python3.10/dist-packages (from roboflow) (1.4.5)\n",
            "Requirement already satisfied: matplotlib in /usr/local/lib/python3.10/dist-packages (from roboflow) (3.7.1)\n",
            "Requirement already satisfied: numpy>=1.18.5 in /usr/local/lib/python3.10/dist-packages (from roboflow) (1.25.2)\n",
            "Requirement already satisfied: opencv-python-headless==4.8.0.74 in /usr/local/lib/python3.10/dist-packages (from roboflow) (4.8.0.74)\n",
            "Requirement already satisfied: Pillow>=7.1.2 in /usr/local/lib/python3.10/dist-packages (from roboflow) (9.4.0)\n",
            "Requirement already satisfied: python-dateutil in /usr/local/lib/python3.10/dist-packages (from roboflow) (2.8.2)\n",
            "Requirement already satisfied: python-dotenv in /usr/local/lib/python3.10/dist-packages (from roboflow) (1.0.1)\n",
            "Requirement already satisfied: requests in /usr/local/lib/python3.10/dist-packages (from roboflow) (2.31.0)\n",
            "Requirement already satisfied: six in /usr/local/lib/python3.10/dist-packages (from roboflow) (1.16.0)\n",
            "Requirement already satisfied: urllib3>=1.26.6 in /usr/local/lib/python3.10/dist-packages (from roboflow) (2.0.7)\n",
            "Requirement already satisfied: tqdm>=4.41.0 in /usr/local/lib/python3.10/dist-packages (from roboflow) (4.66.4)\n",
            "Requirement already satisfied: PyYAML>=5.3.1 in /usr/local/lib/python3.10/dist-packages (from roboflow) (6.0.1)\n",
            "Requirement already satisfied: requests-toolbelt in /usr/local/lib/python3.10/dist-packages (from roboflow) (1.0.0)\n",
            "Requirement already satisfied: python-magic in /usr/local/lib/python3.10/dist-packages (from roboflow) (0.4.27)\n",
            "Requirement already satisfied: contourpy>=1.0.1 in /usr/local/lib/python3.10/dist-packages (from matplotlib->roboflow) (1.2.1)\n",
            "Requirement already satisfied: fonttools>=4.22.0 in /usr/local/lib/python3.10/dist-packages (from matplotlib->roboflow) (4.51.0)\n",
            "Requirement already satisfied: packaging>=20.0 in /usr/local/lib/python3.10/dist-packages (from matplotlib->roboflow) (24.0)\n",
            "Requirement already satisfied: pyparsing>=2.3.1 in /usr/local/lib/python3.10/dist-packages (from matplotlib->roboflow) (3.1.2)\n",
            "Requirement already satisfied: charset-normalizer<4,>=2 in /usr/local/lib/python3.10/dist-packages (from requests->roboflow) (3.3.2)\n"
          ]
        }
      ]
    },
    {
      "cell_type": "code",
      "source": [
        "!pip install roboflow\n",
        "\n",
        "from roboflow import Roboflow\n",
        "rf = Roboflow(api_key=\"PuwNh67WvxBDmH7VOt04\")\n",
        "project = rf.workspace(\"augmented-startups\").project(\"vehicle-registration-plates-trudk\")\n",
        "version = project.version(2)\n",
        "dataset = version.download(\"yolov8\")\n"
      ],
      "metadata": {
        "colab": {
          "base_uri": "https://localhost:8080/"
        },
        "collapsed": true,
        "id": "tFlbDebe109o",
        "outputId": "05f2827f-69aa-4416-aac4-17d750070b8f"
      },
      "execution_count": 5,
      "outputs": [
        {
          "output_type": "stream",
          "name": "stdout",
          "text": [
            "Requirement already satisfied: roboflow in /usr/local/lib/python3.10/dist-packages (1.1.29)\n",
            "Requirement already satisfied: certifi==2023.7.22 in /usr/local/lib/python3.10/dist-packages (from roboflow) (2023.7.22)\n",
            "Requirement already satisfied: chardet==4.0.0 in /usr/local/lib/python3.10/dist-packages (from roboflow) (4.0.0)\n",
            "Requirement already satisfied: cycler==0.10.0 in /usr/local/lib/python3.10/dist-packages (from roboflow) (0.10.0)\n",
            "Requirement already satisfied: idna==2.10 in /usr/local/lib/python3.10/dist-packages (from roboflow) (2.10)\n",
            "Requirement already satisfied: kiwisolver>=1.3.1 in /usr/local/lib/python3.10/dist-packages (from roboflow) (1.4.5)\n",
            "Requirement already satisfied: matplotlib in /usr/local/lib/python3.10/dist-packages (from roboflow) (3.7.1)\n",
            "Requirement already satisfied: numpy>=1.18.5 in /usr/local/lib/python3.10/dist-packages (from roboflow) (1.25.2)\n",
            "Requirement already satisfied: opencv-python-headless==4.8.0.74 in /usr/local/lib/python3.10/dist-packages (from roboflow) (4.8.0.74)\n",
            "Requirement already satisfied: Pillow>=7.1.2 in /usr/local/lib/python3.10/dist-packages (from roboflow) (9.4.0)\n",
            "Requirement already satisfied: python-dateutil in /usr/local/lib/python3.10/dist-packages (from roboflow) (2.8.2)\n",
            "Requirement already satisfied: python-dotenv in /usr/local/lib/python3.10/dist-packages (from roboflow) (1.0.1)\n",
            "Requirement already satisfied: requests in /usr/local/lib/python3.10/dist-packages (from roboflow) (2.31.0)\n",
            "Requirement already satisfied: six in /usr/local/lib/python3.10/dist-packages (from roboflow) (1.16.0)\n",
            "Requirement already satisfied: urllib3>=1.26.6 in /usr/local/lib/python3.10/dist-packages (from roboflow) (2.0.7)\n",
            "Requirement already satisfied: tqdm>=4.41.0 in /usr/local/lib/python3.10/dist-packages (from roboflow) (4.66.4)\n",
            "Requirement already satisfied: PyYAML>=5.3.1 in /usr/local/lib/python3.10/dist-packages (from roboflow) (6.0.1)\n",
            "Requirement already satisfied: requests-toolbelt in /usr/local/lib/python3.10/dist-packages (from roboflow) (1.0.0)\n",
            "Requirement already satisfied: python-magic in /usr/local/lib/python3.10/dist-packages (from roboflow) (0.4.27)\n",
            "Requirement already satisfied: contourpy>=1.0.1 in /usr/local/lib/python3.10/dist-packages (from matplotlib->roboflow) (1.2.1)\n",
            "Requirement already satisfied: fonttools>=4.22.0 in /usr/local/lib/python3.10/dist-packages (from matplotlib->roboflow) (4.51.0)\n",
            "Requirement already satisfied: packaging>=20.0 in /usr/local/lib/python3.10/dist-packages (from matplotlib->roboflow) (24.0)\n",
            "Requirement already satisfied: pyparsing>=2.3.1 in /usr/local/lib/python3.10/dist-packages (from matplotlib->roboflow) (3.1.2)\n",
            "Requirement already satisfied: charset-normalizer<4,>=2 in /usr/local/lib/python3.10/dist-packages (from requests->roboflow) (3.3.2)\n",
            "loading Roboflow workspace...\n",
            "loading Roboflow project...\n",
            "Dependency ultralytics==8.0.196 is required but found version=8.0.81, to fix: `pip install ultralytics==8.0.196`\n"
          ]
        },
        {
          "output_type": "stream",
          "name": "stderr",
          "text": [
            "Downloading Dataset Version Zip in Vehicle-Registration-Plates-2 to yolov8:: 100%|██████████| 733501/733501 [00:16<00:00, 43726.58it/s]"
          ]
        },
        {
          "output_type": "stream",
          "name": "stdout",
          "text": [
            "\n"
          ]
        },
        {
          "output_type": "stream",
          "name": "stderr",
          "text": [
            "\n",
            "Extracting Dataset Version Zip to Vehicle-Registration-Plates-2 in yolov8:: 100%|██████████| 42362/42362 [00:13<00:00, 3036.93it/s]\n"
          ]
        }
      ]
    },
    {
      "cell_type": "code",
      "source": [
        "DATASET_DIR_PATH=\"/content/dataset/train\""
      ],
      "metadata": {
        "id": "GlLR6EZE3z2-"
      },
      "execution_count": 20,
      "outputs": []
    },
    {
      "cell_type": "code",
      "source": [
        "from autodistill_grounded_sam import GroundedSAM\n",
        "\n",
        "base_model = GroundedSAM(ontology=ontology)\n",
        "dataset = base_model.label(\n",
        "    input_folder=IMAGE_DIR_PATH,\n",
        "    extension=\"png\",\n",
        "    output_folder=DATASET_DIR_PATH\n",
        "\n",
        ")"
      ],
      "metadata": {
        "colab": {
          "base_uri": "https://localhost:8080/"
        },
        "id": "bTRbYMm44Hsb",
        "outputId": "bdaa06b2-bb85-40b6-ad9a-832ed0c13193"
      },
      "execution_count": null,
      "outputs": [
        {
          "output_type": "stream",
          "name": "stdout",
          "text": [
            "trying to load grounding dino directly\n",
            "final text_encoder_type: bert-base-uncased\n"
          ]
        },
        {
          "output_type": "stream",
          "name": "stderr",
          "text": [
            "Labeling /content/extracted_files/images/Cars114.png:   6%|▌         | 24/433 [1:13:26<20:59:00, 184.70s/it]"
          ]
        }
      ]
    },
    {
      "cell_type": "code",
      "source": [
        "from autodistill_grounded_sam import GroundedSAM\n",
        "\n",
        "base_model = GroundedSAM(ontology=ontology)\n",
        "dataset = base_model.label(\n",
        "    input_folder=IMAGE_DIR_PATH,\n",
        "    extension=\"png\",\n",
        "    output_folder=DATASET_DIR_PATH\n",
        "\n",
        ")"
      ],
      "metadata": {
        "colab": {
          "base_uri": "https://localhost:8080/"
        },
        "id": "l5Cdckc23vWb",
        "outputId": "64ed1b54-3a7e-4865-c0ca-576dae60d327"
      },
      "execution_count": 11,
      "outputs": [
        {
          "output_type": "stream",
          "name": "stdout",
          "text": [
            "trying to load grounding dino directly\n",
            "final text_encoder_type: bert-base-uncased\n"
          ]
        },
        {
          "output_type": "stream",
          "name": "stderr",
          "text": [
            "Labeling images: 0it [00:00, ?it/s]"
          ]
        },
        {
          "output_type": "stream",
          "name": "stdout",
          "text": [
            "Labeled dataset created - ready for distillation.\n"
          ]
        },
        {
          "output_type": "stream",
          "name": "stderr",
          "text": [
            "\n"
          ]
        }
      ]
    },
    {
      "cell_type": "code",
      "source": [
        "ANNOTATIONS_DIRECTORY_PATH = f\"/content/dataset/annotations\"\n",
        "IMAGES_DIRECTORY_PATH = f\"/content/dataset/images\"\n",
        "DATA_YAML_PATH = f\"/content/dataset/data.yaml\""
      ],
      "metadata": {
        "id": "GUHDQDCQ4W_n"
      },
      "execution_count": 12,
      "outputs": []
    },
    {
      "cell_type": "code",
      "source": [],
      "metadata": {
        "id": "UdTqwgai4pCM"
      },
      "execution_count": null,
      "outputs": []
    }
  ]
}