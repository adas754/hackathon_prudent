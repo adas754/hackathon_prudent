{
  "cells": [
    {
      "cell_type": "code",
      "execution_count": null,
      "id": "7b41f16d",
      "metadata": {
        "id": "7b41f16d"
      },
      "outputs": [],
      "source": [
        "from pathlib import Path\n",
        "# from dsnotebooks.settings import ProjectNotebookSettings\n",
        "\n",
        "# notebook settings auto-loaded from .env / env vars\n",
        "# notebook_settings = ProjectNotebookSettings()\n",
        "\n",
        "# PROFILE_NAME = notebook_settings.profile  # the profile to use\n",
        "# PROJ_KEY = notebook_settings.proj_key     # the project to use\n",
        "PROFILE_NAME =\"ds-experience\"   # the profile to use\n",
        "PROJ_KEY = \"1234567890abcdefghijklmnopqrstvwyz123456\"     # the project to use\n",
        "INPUT_FILE = Path(\"demo_1.docx\")"
      ]
    },
    {
      "cell_type": "code",
      "execution_count": null,
      "id": "47c15125",
      "metadata": {
        "id": "47c15125"
      },
      "outputs": [],
      "source": [
        "# Import standard dependenices\n",
        "import json\n",
        "import tempfile\n",
        "from zipfile import ZipFile\n",
        "import typer\n",
        "import pandas as pd\n",
        "\n",
        "# IPython utilities\n",
        "from IPython.display import display, Markdown, HTML\n",
        "\n",
        "# Import the deepsearch-toolkit\n",
        "import deepsearch as ds"
      ]
    },
    {
      "cell_type": "code",
      "source": [
        "def extract_tables_from_json_doc(pdf_filename: Path, document: dict, output_dir: Path):\n",
        "    \"\"\"\n",
        "    Iterate through the converted document format and extract the figures as PNG files\n",
        "\n",
        "    Parameters\n",
        "    ----------\n",
        "    pdf_filename : Path\n",
        "        Input PDF file.\n",
        "    document :\n",
        "        The converted document from Deep Search.\n",
        "    output_dir : Path\n",
        "        Output directory where all extracted images will be saved.\n",
        "    \"\"\"\n",
        "\n",
        "    output_base = output_dir / document[\"file-info\"][\"filename\"].rstrip(\".pdf\").rstrip(\n",
        "        \".PDF\"\n",
        "    )\n",
        "    page_counters = {}\n",
        "    # Iterate through all the tables identified in the converted document\n",
        "    for table in document.get(\"tables\", []):\n",
        "        prov = table[\"prov\"][0]\n",
        "        page = prov[\"page\"]\n",
        "        page_counters.setdefault(page, 0)\n",
        "        page_counters[page] += 1\n",
        "\n",
        "        # Load the table into a Pandas DataFrame\n",
        "        table_content = [[cell[\"text\"] for cell in row] for row in table[\"data\"]]\n",
        "        df = pd.DataFrame(table_content)\n",
        "\n",
        "        # Save table\n",
        "        output_filename = output_base.with_name(\n",
        "            f\"{output_base.name}_{page}_{page_counters[page]}.csv\"\n",
        "        )\n",
        "        df.to_csv(output_filename)\n",
        "\n",
        "        typer.secho(f\"Table extracted in {output_filename}\", fg=typer.colors.GREEN)\n",
        "\n"
      ],
      "metadata": {
        "id": "zyanGL_GK8Is"
      },
      "id": "zyanGL_GK8Is",
      "execution_count": null,
      "outputs": []
    },
    {
      "cell_type": "code",
      "execution_count": null,
      "id": "737d1614",
      "metadata": {
        "id": "737d1614"
      },
      "outputs": [],
      "source": [
        "api = ds.CpsApi.from_env(profile_name=PROFILE_NAME)"
      ]
    },
    {
      "cell_type": "code",
      "source": [
        "\n",
        "%%time\n",
        "output_dir = \"C:\\out\"\n",
        "# output_dir = tempfile.mkdtemp() # TODO: switch to tempfile.TemporaryDirectory() and use `with`\n",
        "# print(output_dir)\n",
        "documents.download_all(result_dir=output_dir, progress_bar=True)\n",
        "\n",
        "for output_file in Path(output_dir).rglob(\"json*.zip\"):\n",
        "    with ZipFile(output_file) as archive:\n",
        "        all_files = archive.namelist()\n",
        "        for name in all_files:\n",
        "            if name.endswith(\".json\"):\n",
        "                typer.secho(\n",
        "                    f\"Procecssing file {name} in archive {output_file}\",\n",
        "                    fg=typer.colors.BLUE,\n",
        "                )\n",
        "                document = json.loads(archive.read(name))\n",
        "                pdf_filename = Path(output_dir) / document[\"file-info\"][\"filename\"]\n",
        "#                 extract_figures_from_json_doc(pdf_filename, document, output_dir, 72)\n",
        "extract_tables_from_json_doc((pdf_filename, document, output_dir))"
      ],
      "metadata": {
        "id": "CCICdnMWLMdX"
      },
      "id": "CCICdnMWLMdX",
      "execution_count": null,
      "outputs": []
    },
    {
      "cell_type": "code",
      "execution_count": null,
      "id": "b5654d3e",
      "metadata": {
        "collapsed": true,
        "id": "b5654d3e",
        "outputId": "01fc522d-bfa4-46b7-f52a-519d20d4d326"
      },
      "outputs": [
        {
          "name": "stderr",
          "output_type": "stream",
          "text": [
            "Submitting input:     : |\u001b[38;2;15;98;254m                              \u001b[0m| 0/0 [00:00<?, ?it/s]\u001b[38;2;15;98;254m                                                                                          \u001b[0m\n",
            "Converting input:     : |\u001b[38;2;15;98;254m                              \u001b[0m| 0/0 [00:00<?, ?it/s]\u001b[38;2;15;98;254m                                                                                          \u001b[0m\n"
          ]
        }
      ],
      "source": [
        "documents = ds.convert_documents(\n",
        "    api=api, proj_key=PROJ_KEY, source_path=INPUT_FILE, progress_bar=True\n",
        ")"
      ]
    },
    {
      "cell_type": "code",
      "execution_count": null,
      "id": "654c5a80",
      "metadata": {
        "id": "654c5a80",
        "outputId": "ef5bc9f4-cded-40ec-e27c-526117014ddc"
      },
      "outputs": [
        {
          "name": "stdout",
          "output_type": "stream",
          "text": [
            "FACT SHEET The Enhancement and Standardization of Climate-Related Disclosures: Final Rules\n",
            "On March 6, 2024, the Securities and Exchange Commission adopted final rules to require registrants to disclose certain climate-related information in registration statements and annual reports. The Commission proposed the rules on March 21, 2022. The public comment file is available online.\n",
            "The final rules require a registrant to disclose, among other things: material climate-related risks; activities to mitigate or adapt to such risks; information about the registrant's board of directors' oversight of climate-related risks and management's role in managing material climate-related risks; and information on any climate-related targets or goals that are material to the registrant's business, results of operations, or financial condition.\n",
            "Further, to facilitate investors' assessment of certain climate-related risks, the final rules require disclosure of Scope 1 and/or Scope 2 greenhouse gas (GHG) emissions on a phased-in basis by certain larger registrants when those emissions are material; the filing of an attestation report covering the required disclosure of such registrants' Scope 1 and/or Scope 2 emissions, also on a phased-in basis; and disclosure of the financial statement effects of severe weather events and other natural conditions including, for example, costs and losses.\n",
            "The final rules include a phased-in compliance period for all registrants, with the compliance date dependent on the registrant's filer status and the content of the disclosure.\n",
            "Background\n",
            "The importance of climate-related disclosures for investors has grown as investors, companies, and the markets have recognized that climate-related risks can affect a company's business and its current and longer-term financial performance and position. The Commission has amended its disclosure requirements many times over the last 90 years based on the determination that the required information would be important to investment and voting decisions. The Commission for the last 50 years has also required disclosure about various environmental matters. More recently, the Commission published the 2010 Guidance, explaining how the Commission's existing disclosure rules may require disclosure of the impacts of climate change on a registrant's business or financial condition. The final rules are a continuation of the Commission's efforts to respond to investor need for more consistent, comparable, and reliable information about the financial effects of climate-related risks on a registrant's business, as well as information about how the registrant manages those risks.\n",
            "U.S. SECURITIES AND EXCHANGE COMMISSION\n",
            "PAGE 1 OF 4\n",
            "FACT SHEET | The Enhancement and Standardization of Climate-Related Disclosures: Final Rules\n",
            "Content of the Disclosures\n",
            "The final rules will require a registrant to disclose:\n",
            "● Climate-related risks that have had or are reasonably likely to have a material impact on the registrant's business strategy, results of operations, or financial condition;\n",
            "● The actual and potential material impacts of any identified climate-related risks on the registrant's strategy, business model, and outlook;\n",
            "● If, as part of its strategy, a registrant has undertaken activities to mitigate or adapt to a material climate-related risk, a quantitative and qualitative description of material expenditures incurred and material impacts on financial estimates and assumptions that directly result from such mitigation or adaptation activities;\n",
            "● Specified disclosures regarding a registrant's activities, if any, to mitigate or adapt to a material climate-related risk including the use, if any, of transition plans, scenario analysis, or internal carbon prices;\n",
            "● Any oversight by the board of directors of climate-related risks and any role by management in assessing and managing the registrant's material climate-related risks;\n",
            "● Any processes the registrant has for identifying, assessing, and managing material climate-related risks and, if the registrant is managing those risks, whether and how any such processes are integrated into the registrant's overall risk management system or processes;\n",
            "● Information about a registrant's climate-related targets or goals, if any, that have materially affected or are reasonably likely to materially affect the registrant's business, results of operations, or financial condition. Disclosures would include material expenditures and material impacts on financial estimates and assumptions as a direct result of the target or goal or actions taken to make progress toward meeting such target or goal;\n",
            "● For large accelerated filers (LAFs) and accelerated filers (AFs) that are not otherwise exempted, information about material Scope 1 emissions and/or Scope 2 emissions;\n",
            "● For those required to disclose Scope 1 and/or Scope 2 emissions, an assurance report at the limited assurance level, which, for an LAF, following an additional transition period, will be at the reasonable assurance level;\n",
            "● The capitalized costs, expenditures expensed, charges, and losses incurred as a result of severe weather events and other natural conditions, such as hurricanes, tornadoes, flooding, drought, wildfires, extreme temperatures, and sea level rise, subject to applicable one percent and de minimis disclosure thresholds, disclosed in a note to the financial statements;\n",
            "● The capitalized costs, expenditures expensed, and losses related to carbon offsets and renewable energy credits or certificates (RECs) if used as a material component of a registrant's plans to achieve its disclosed climate-related targets or goals, disclosed in a note to the financial statements; and\n",
            "U.S. SECURITIES AND EXCHANGE COMMISSION\n",
            "PAGE 2 OF 4\n",
            "FACT SHEET | The Enhancement and Standardization of Climate-Related Disclosures: Final Rules\n",
            "● If the estimates and assumptions a registrant uses to produce the financial statements were materially impacted by risks and uncertainties associated with severe weather events and other natural conditions or any disclosed climate-related targets or transition plans, a qualitative description of how the development of such estimates and assumptions was impacted, disclosed in a note to the financial statements.\n",
            "Presentation of the Disclosures\n",
            "The final rules will require a registrant (including a foreign private issuer) to:\n",
            "● File the climate-related disclosure in its registration statements and Exchange Act annual reports filed with the Commission;\n",
            "● Provide the Regulation S-K mandated climate-related disclosures either in a separate, appropriately captioned section of its registration statement or annual report or in another appropriate section of the filing, such as Risk Factors, Description of Business, or Management's Discussion and Analysis, or, alternatively, by incorporating such disclosure by reference from another Commission filing as long as the disclosure meets the electronic tagging requirements of the final rules; and\n",
            "● Electronically tag climate-related disclosures in Inline XBRL.\n",
            "Phase-In Periods and Accommodations\n",
            "The final rules will be phased in for all registrants with the compliance date dependent upon the status of the registrant as an LAF, an AF, or non-accelerated filer (NAF), smaller reporting company (SRC), or emerging growth company (EGC), and the content of the disclosure and provides several accommodations, including:\n",
            "● Additional phase-in periods for disclosures pertaining to material expenditures, GHG emissions, the assurance requirement, and the electronic tagging requirement if the registrant is an LAF (see compliance date table);\n",
            "● A safe harbor from private liability for climate-related disclosures (excluding historical facts) pertaining to transition plans, scenario analysis, the use of an internal carbon price, and targets and goals;\n",
            "● An exemption from the GHG emissions disclosure requirement for SRCs and EGCs; and\n",
            "● An accommodation that allows Scope 1 and/or Scope 2 emissions disclosure, if required, to be filed on a delayed basis as follows:\n",
            "· If a domestic registrant, in its Form 10-Q for the second fiscal quarter in the fiscal year immediately following the year to which the GHG emissions disclosure relates;\n",
            "U.S. SECURITIES AND EXCHANGE COMMISSION\n",
            "PAGE 3 OF 4\n",
            "FACT SHEET | The Enhancement and Standardization of Climate-Related Disclosures: Final Rules\n",
            "· If a foreign private issuer, in an amendment to its annual report on Form 20 F, which shall be due no later than when such disclosure would be due for a domestic registrant; and\n",
            "· If filing a Securities Act or Exchange Act registration statement, as of the most recently completed fiscal year that is at least 225 days prior to the date of effectiveness of the registration statement.\n",
            "What's Next\n",
            "The final rules will become effective 60 days after publication in the Federal Register, and compliance will be phased in as follows:\n",
            "U.S. SECURITIES AND EXCHANGE COMMISSION\n",
            "PAGE 4 OF 4\n"
          ]
        }
      ],
      "source": [
        "import json\n",
        "\n",
        "# Open the JSON file and load its contents\n",
        "with open('SEC-ESG-Mar24-FinalRule-Factsheet_2.json', 'r') as file:\n",
        "    data = json.load(file)\n",
        "\n",
        "# Extract text from main-text\n",
        "extracted_text = [item['text'] for item in data['main-text'] if 'text' in item]\n",
        "\n",
        "# Print extracted text\n",
        "for text in extracted_text:\n",
        "    print(text)\n"
      ]
    }
  ],
  "metadata": {
    "kernelspec": {
      "display_name": "Python 3 (ipykernel)",
      "language": "python",
      "name": "python3"
    },
    "language_info": {
      "codemirror_mode": {
        "name": "ipython",
        "version": 3
      },
      "file_extension": ".py",
      "mimetype": "text/x-python",
      "name": "python",
      "nbconvert_exporter": "python",
      "pygments_lexer": "ipython3",
      "version": "3.11.5"
    },
    "colab": {
      "provenance": []
    }
  },
  "nbformat": 4,
  "nbformat_minor": 5
}